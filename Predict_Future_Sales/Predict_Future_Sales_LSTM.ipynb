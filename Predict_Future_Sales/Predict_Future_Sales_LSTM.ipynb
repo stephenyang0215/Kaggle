{
 "cells": [
  {
   "cell_type": "code",
   "execution_count": 80,
   "metadata": {
    "scrolled": true
   },
   "outputs": [],
   "source": [
    "import pandas as pd\n",
    "from numpy import array\n",
    "import numpy as np\n",
    "import math\n",
    "import matplotlib.pyplot as plt\n",
    "from datetime import datetime\n",
    "from sklearn.model_selection import train_test_split\n",
    "from tensorflow.keras.models import Sequential\n",
    "from tensorflow.keras.layers import LSTM\n",
    "from tensorflow.keras.layers import Dense\n",
    "from tensorflow.keras.layers import Dropout\n",
    "from tensorflow.keras.callbacks import EarlyStopping\n",
    "\n",
    "import tensorflow as tf\n",
    "from tensorflow.keras import layers\n",
    "from sklearn.preprocessing import MinMaxScaler\n"
   ]
  },
  {
   "cell_type": "markdown",
   "metadata": {},
   "source": [
    "### Import Data"
   ]
  },
  {
   "cell_type": "code",
   "execution_count": 108,
   "metadata": {},
   "outputs": [
    {
     "name": "stdout",
     "output_type": "stream",
     "text": [
      "(2935849, 6)\n",
      "(214200, 3)\n"
     ]
    }
   ],
   "source": [
    "train_sales = pd.read_csv(r'C:/Users/Student/Desktop/competitive-data-science-predict-future-sales/sales_train.csv', parse_dates=['date'], infer_datetime_format=True, dayfirst=True)\n",
    "test_sales = pd.read_csv(r'C:/Users/Student/Desktop/competitive-data-science-predict-future-sales/test.csv')\n",
    "print(train_sales.shape)\n",
    "print(test_sales.shape)"
   ]
  },
  {
   "cell_type": "markdown",
   "metadata": {},
   "source": [
    "### Preprocessing"
   ]
  },
  {
   "cell_type": "code",
   "execution_count": null,
   "metadata": {},
   "outputs": [],
   "source": [
    "train_sales['date'] = train_sales.date.apply(lambda x: x.strftime('%Y-%m'))\n",
    "train_sales['item_cnt_day']=train_sales['item_cnt_day'].clip(0,round(train_sales['item_cnt_day'].mean()+5*(train_sales['item_cnt_day'].std())))\n",
    "train_sales.loc[train_sales[train_sales['item_price']<0].index, 'item_price']=0\n",
    "#Scale the price column \n",
    "scaler = MinMaxScaler(feature_range=(0, 1))\n",
    "train_sales[\"item_price\"] = scaler.fit_transform(train_sales[\"item_price\"].values.reshape(-1,1))"
   ]
  },
  {
   "cell_type": "markdown",
   "metadata": {},
   "source": [
    "### Create pivot dataframes for price and day count separately"
   ]
  },
  {
   "cell_type": "code",
   "execution_count": 82,
   "metadata": {
    "scrolled": true
   },
   "outputs": [],
   "source": [
    "train_sales_price = train_sales.groupby(['date','shop_id', 'item_id']).mean().reset_index()\n",
    "train_sales_price = train_sales_price.pivot_table(index=['shop_id', 'item_id'], columns='date', values='item_price', fill_value=0).reset_index()\n",
    "train_sales_price = pd.merge(test_sales, train_sales_price, on=['shop_id', 'item_id'], how='left').fillna(0)\n",
    "train_sales_price = train_sales_price.drop(columns=['shop_id', 'item_id', 'ID'])"
   ]
  },
  {
   "cell_type": "code",
   "execution_count": 84,
   "metadata": {
    "collapsed": true
   },
   "outputs": [
    {
     "data": {
      "text/html": [
       "<div>\n",
       "<style scoped>\n",
       "    .dataframe tbody tr th:only-of-type {\n",
       "        vertical-align: middle;\n",
       "    }\n",
       "\n",
       "    .dataframe tbody tr th {\n",
       "        vertical-align: top;\n",
       "    }\n",
       "\n",
       "    .dataframe thead th {\n",
       "        text-align: right;\n",
       "    }\n",
       "</style>\n",
       "<table border=\"1\" class=\"dataframe\">\n",
       "  <thead>\n",
       "    <tr style=\"text-align: right;\">\n",
       "      <th>date</th>\n",
       "      <th>shop_id</th>\n",
       "      <th>item_id</th>\n",
       "      <th>2013-01</th>\n",
       "      <th>2013-02</th>\n",
       "      <th>2013-03</th>\n",
       "      <th>2013-04</th>\n",
       "      <th>2013-05</th>\n",
       "      <th>2013-06</th>\n",
       "      <th>2013-07</th>\n",
       "      <th>2013-08</th>\n",
       "      <th>...</th>\n",
       "      <th>2015-01</th>\n",
       "      <th>2015-02</th>\n",
       "      <th>2015-03</th>\n",
       "      <th>2015-04</th>\n",
       "      <th>2015-05</th>\n",
       "      <th>2015-06</th>\n",
       "      <th>2015-07</th>\n",
       "      <th>2015-08</th>\n",
       "      <th>2015-09</th>\n",
       "      <th>2015-10</th>\n",
       "    </tr>\n",
       "  </thead>\n",
       "  <tbody>\n",
       "    <tr>\n",
       "      <td>0</td>\n",
       "      <td>0</td>\n",
       "      <td>30</td>\n",
       "      <td>0</td>\n",
       "      <td>31</td>\n",
       "      <td>0</td>\n",
       "      <td>0</td>\n",
       "      <td>0</td>\n",
       "      <td>0</td>\n",
       "      <td>0</td>\n",
       "      <td>0</td>\n",
       "      <td>...</td>\n",
       "      <td>0</td>\n",
       "      <td>0</td>\n",
       "      <td>0</td>\n",
       "      <td>0</td>\n",
       "      <td>0</td>\n",
       "      <td>0</td>\n",
       "      <td>0</td>\n",
       "      <td>0</td>\n",
       "      <td>0</td>\n",
       "      <td>0</td>\n",
       "    </tr>\n",
       "    <tr>\n",
       "      <td>1</td>\n",
       "      <td>0</td>\n",
       "      <td>31</td>\n",
       "      <td>0</td>\n",
       "      <td>11</td>\n",
       "      <td>0</td>\n",
       "      <td>0</td>\n",
       "      <td>0</td>\n",
       "      <td>0</td>\n",
       "      <td>0</td>\n",
       "      <td>0</td>\n",
       "      <td>...</td>\n",
       "      <td>0</td>\n",
       "      <td>0</td>\n",
       "      <td>0</td>\n",
       "      <td>0</td>\n",
       "      <td>0</td>\n",
       "      <td>0</td>\n",
       "      <td>0</td>\n",
       "      <td>0</td>\n",
       "      <td>0</td>\n",
       "      <td>0</td>\n",
       "    </tr>\n",
       "    <tr>\n",
       "      <td>2</td>\n",
       "      <td>0</td>\n",
       "      <td>32</td>\n",
       "      <td>6</td>\n",
       "      <td>10</td>\n",
       "      <td>0</td>\n",
       "      <td>0</td>\n",
       "      <td>0</td>\n",
       "      <td>0</td>\n",
       "      <td>0</td>\n",
       "      <td>0</td>\n",
       "      <td>...</td>\n",
       "      <td>0</td>\n",
       "      <td>0</td>\n",
       "      <td>0</td>\n",
       "      <td>0</td>\n",
       "      <td>0</td>\n",
       "      <td>0</td>\n",
       "      <td>0</td>\n",
       "      <td>0</td>\n",
       "      <td>0</td>\n",
       "      <td>0</td>\n",
       "    </tr>\n",
       "    <tr>\n",
       "      <td>3</td>\n",
       "      <td>0</td>\n",
       "      <td>33</td>\n",
       "      <td>3</td>\n",
       "      <td>3</td>\n",
       "      <td>0</td>\n",
       "      <td>0</td>\n",
       "      <td>0</td>\n",
       "      <td>0</td>\n",
       "      <td>0</td>\n",
       "      <td>0</td>\n",
       "      <td>...</td>\n",
       "      <td>0</td>\n",
       "      <td>0</td>\n",
       "      <td>0</td>\n",
       "      <td>0</td>\n",
       "      <td>0</td>\n",
       "      <td>0</td>\n",
       "      <td>0</td>\n",
       "      <td>0</td>\n",
       "      <td>0</td>\n",
       "      <td>0</td>\n",
       "    </tr>\n",
       "    <tr>\n",
       "      <td>4</td>\n",
       "      <td>0</td>\n",
       "      <td>35</td>\n",
       "      <td>1</td>\n",
       "      <td>14</td>\n",
       "      <td>0</td>\n",
       "      <td>0</td>\n",
       "      <td>0</td>\n",
       "      <td>0</td>\n",
       "      <td>0</td>\n",
       "      <td>0</td>\n",
       "      <td>...</td>\n",
       "      <td>0</td>\n",
       "      <td>0</td>\n",
       "      <td>0</td>\n",
       "      <td>0</td>\n",
       "      <td>0</td>\n",
       "      <td>0</td>\n",
       "      <td>0</td>\n",
       "      <td>0</td>\n",
       "      <td>0</td>\n",
       "      <td>0</td>\n",
       "    </tr>\n",
       "    <tr>\n",
       "      <td>...</td>\n",
       "      <td>...</td>\n",
       "      <td>...</td>\n",
       "      <td>...</td>\n",
       "      <td>...</td>\n",
       "      <td>...</td>\n",
       "      <td>...</td>\n",
       "      <td>...</td>\n",
       "      <td>...</td>\n",
       "      <td>...</td>\n",
       "      <td>...</td>\n",
       "      <td>...</td>\n",
       "      <td>...</td>\n",
       "      <td>...</td>\n",
       "      <td>...</td>\n",
       "      <td>...</td>\n",
       "      <td>...</td>\n",
       "      <td>...</td>\n",
       "      <td>...</td>\n",
       "      <td>...</td>\n",
       "      <td>...</td>\n",
       "      <td>...</td>\n",
       "    </tr>\n",
       "    <tr>\n",
       "      <td>424119</td>\n",
       "      <td>59</td>\n",
       "      <td>22154</td>\n",
       "      <td>1</td>\n",
       "      <td>0</td>\n",
       "      <td>0</td>\n",
       "      <td>0</td>\n",
       "      <td>0</td>\n",
       "      <td>0</td>\n",
       "      <td>0</td>\n",
       "      <td>0</td>\n",
       "      <td>...</td>\n",
       "      <td>0</td>\n",
       "      <td>0</td>\n",
       "      <td>0</td>\n",
       "      <td>0</td>\n",
       "      <td>0</td>\n",
       "      <td>0</td>\n",
       "      <td>0</td>\n",
       "      <td>0</td>\n",
       "      <td>0</td>\n",
       "      <td>0</td>\n",
       "    </tr>\n",
       "    <tr>\n",
       "      <td>424120</td>\n",
       "      <td>59</td>\n",
       "      <td>22155</td>\n",
       "      <td>0</td>\n",
       "      <td>0</td>\n",
       "      <td>0</td>\n",
       "      <td>0</td>\n",
       "      <td>0</td>\n",
       "      <td>0</td>\n",
       "      <td>1</td>\n",
       "      <td>0</td>\n",
       "      <td>...</td>\n",
       "      <td>0</td>\n",
       "      <td>0</td>\n",
       "      <td>0</td>\n",
       "      <td>0</td>\n",
       "      <td>0</td>\n",
       "      <td>0</td>\n",
       "      <td>0</td>\n",
       "      <td>0</td>\n",
       "      <td>0</td>\n",
       "      <td>0</td>\n",
       "    </tr>\n",
       "    <tr>\n",
       "      <td>424121</td>\n",
       "      <td>59</td>\n",
       "      <td>22162</td>\n",
       "      <td>0</td>\n",
       "      <td>0</td>\n",
       "      <td>0</td>\n",
       "      <td>0</td>\n",
       "      <td>0</td>\n",
       "      <td>0</td>\n",
       "      <td>0</td>\n",
       "      <td>0</td>\n",
       "      <td>...</td>\n",
       "      <td>0</td>\n",
       "      <td>9</td>\n",
       "      <td>4</td>\n",
       "      <td>1</td>\n",
       "      <td>1</td>\n",
       "      <td>0</td>\n",
       "      <td>0</td>\n",
       "      <td>1</td>\n",
       "      <td>0</td>\n",
       "      <td>0</td>\n",
       "    </tr>\n",
       "    <tr>\n",
       "      <td>424122</td>\n",
       "      <td>59</td>\n",
       "      <td>22164</td>\n",
       "      <td>0</td>\n",
       "      <td>0</td>\n",
       "      <td>0</td>\n",
       "      <td>0</td>\n",
       "      <td>0</td>\n",
       "      <td>0</td>\n",
       "      <td>0</td>\n",
       "      <td>0</td>\n",
       "      <td>...</td>\n",
       "      <td>0</td>\n",
       "      <td>2</td>\n",
       "      <td>1</td>\n",
       "      <td>2</td>\n",
       "      <td>0</td>\n",
       "      <td>0</td>\n",
       "      <td>1</td>\n",
       "      <td>0</td>\n",
       "      <td>0</td>\n",
       "      <td>0</td>\n",
       "    </tr>\n",
       "    <tr>\n",
       "      <td>424123</td>\n",
       "      <td>59</td>\n",
       "      <td>22167</td>\n",
       "      <td>0</td>\n",
       "      <td>0</td>\n",
       "      <td>0</td>\n",
       "      <td>0</td>\n",
       "      <td>0</td>\n",
       "      <td>0</td>\n",
       "      <td>0</td>\n",
       "      <td>0</td>\n",
       "      <td>...</td>\n",
       "      <td>0</td>\n",
       "      <td>0</td>\n",
       "      <td>0</td>\n",
       "      <td>0</td>\n",
       "      <td>0</td>\n",
       "      <td>0</td>\n",
       "      <td>0</td>\n",
       "      <td>0</td>\n",
       "      <td>0</td>\n",
       "      <td>0</td>\n",
       "    </tr>\n",
       "  </tbody>\n",
       "</table>\n",
       "<p>424124 rows × 36 columns</p>\n",
       "</div>"
      ],
      "text/plain": [
       "date    shop_id  item_id  2013-01  2013-02  2013-03  2013-04  2013-05  \\\n",
       "0             0       30        0       31        0        0        0   \n",
       "1             0       31        0       11        0        0        0   \n",
       "2             0       32        6       10        0        0        0   \n",
       "3             0       33        3        3        0        0        0   \n",
       "4             0       35        1       14        0        0        0   \n",
       "...         ...      ...      ...      ...      ...      ...      ...   \n",
       "424119       59    22154        1        0        0        0        0   \n",
       "424120       59    22155        0        0        0        0        0   \n",
       "424121       59    22162        0        0        0        0        0   \n",
       "424122       59    22164        0        0        0        0        0   \n",
       "424123       59    22167        0        0        0        0        0   \n",
       "\n",
       "date    2013-06  2013-07  2013-08  ...  2015-01  2015-02  2015-03  2015-04  \\\n",
       "0             0        0        0  ...        0        0        0        0   \n",
       "1             0        0        0  ...        0        0        0        0   \n",
       "2             0        0        0  ...        0        0        0        0   \n",
       "3             0        0        0  ...        0        0        0        0   \n",
       "4             0        0        0  ...        0        0        0        0   \n",
       "...         ...      ...      ...  ...      ...      ...      ...      ...   \n",
       "424119        0        0        0  ...        0        0        0        0   \n",
       "424120        0        1        0  ...        0        0        0        0   \n",
       "424121        0        0        0  ...        0        9        4        1   \n",
       "424122        0        0        0  ...        0        2        1        2   \n",
       "424123        0        0        0  ...        0        0        0        0   \n",
       "\n",
       "date    2015-05  2015-06  2015-07  2015-08  2015-09  2015-10  \n",
       "0             0        0        0        0        0        0  \n",
       "1             0        0        0        0        0        0  \n",
       "2             0        0        0        0        0        0  \n",
       "3             0        0        0        0        0        0  \n",
       "4             0        0        0        0        0        0  \n",
       "...         ...      ...      ...      ...      ...      ...  \n",
       "424119        0        0        0        0        0        0  \n",
       "424120        0        0        0        0        0        0  \n",
       "424121        1        0        0        1        0        0  \n",
       "424122        0        0        1        0        0        0  \n",
       "424123        0        0        0        0        0        0  \n",
       "\n",
       "[424124 rows x 36 columns]"
      ]
     },
     "execution_count": 84,
     "metadata": {},
     "output_type": "execute_result"
    }
   ],
   "source": [
    "train_sales_cnt = train_sales.groupby(['date','shop_id', 'item_id']).sum()\n",
    "train_sales_cnt = train_sales_cnt.pivot_table(index=['shop_id', 'item_id'], columns='date', values='item_cnt_day', fill_value=0).reset_index()\n",
    "train_sales_cnt = pd.merge(test_sales, train_sales_cnt, on=['shop_id', 'item_id'], how='left').fillna(0)\n",
    "train_sales_cnt = train_sales_cnt.drop(columns=['shop_id', 'item_id', 'ID'])"
   ]
  },
  {
   "cell_type": "markdown",
   "metadata": {},
   "source": [
    "### Transformed into numpy array for data structure of sequential model"
   ]
  },
  {
   "cell_type": "code",
   "execution_count": 86,
   "metadata": {},
   "outputs": [],
   "source": [
    "train_sales_price_x= train_sales_price.drop(columns='2015-10')\n",
    "train_sales_price_y= train_sales_price['2015-10']\n",
    "train_sales_cnt_x= train_sales_cnt.drop(columns='2015-10')\n",
    "train_sales_cnt_y= train_sales_cnt['2015-10']\n",
    "train_sales_price_x=train_sales_price_x.values.reshape((train_sales_price_x.shape[0], train_sales_price_x.shape[1], 1))\n",
    "train_sales_cnt_x=train_sales_cnt_x.values.reshape((train_sales_cnt_x.shape[0], train_sales_cnt_x.shape[1], 1))\n",
    "train_sales_cnt_y=train_sales_cnt_y.values.reshape((train_sales_cnt_x.shape[0], 1))"
   ]
  },
  {
   "cell_type": "markdown",
   "metadata": {},
   "source": [
    "### Combine two arrays into one"
   ]
  },
  {
   "cell_type": "code",
   "execution_count": 87,
   "metadata": {},
   "outputs": [
    {
     "name": "stdout",
     "output_type": "stream",
     "text": [
      "(214200, 33, 2)\n",
      "(214200, 1)\n"
     ]
    }
   ],
   "source": [
    "train_sales_combined_x = np.append(train_sales_price_x,train_sales_cnt_x,axis = 2)\n",
    "train_sales_y = train_sales_cnt_y\n",
    "print(train_sales_combined_x.shape)\n",
    "print(train_sales_y.shape)"
   ]
  },
  {
   "cell_type": "markdown",
   "metadata": {},
   "source": [
    "### Validation Set"
   ]
  },
  {
   "cell_type": "code",
   "execution_count": 89,
   "metadata": {},
   "outputs": [],
   "source": [
    "#Date range of valudation dataset restricted from 2013-02 to 2015-10\n",
    "valid_price=train_sales_price.drop(columns='2013-01')\n",
    "valid_itemcnt=train_sales_cnt.drop(columns='2013-01')\n",
    "valid_price=valid_price.values.reshape((valid_price.shape[0], valid_price.shape[1], 1))\n",
    "valid_itemcnt=valid_itemcnt.values.reshape((valid_itemcnt.shape[0], valid_itemcnt.shape[1], 1))\n",
    "valid_combined = np.append(valid_price,valid_itemcnt,axis = 2)\n",
    "print(valid_combined.shape)"
   ]
  },
  {
   "cell_type": "markdown",
   "metadata": {},
   "source": [
    "### Train Test Split"
   ]
  },
  {
   "cell_type": "code",
   "execution_count": 107,
   "metadata": {},
   "outputs": [],
   "source": [
    "x_train, x_valid, y_train, y_valid = train_test_split(train_sales_combined_x, train_sales_y, test_size=0.10)"
   ]
  },
  {
   "cell_type": "markdown",
   "metadata": {},
   "source": [
    "### Sequential Model Setting"
   ]
  },
  {
   "cell_type": "code",
   "execution_count": 140,
   "metadata": {
    "scrolled": false
   },
   "outputs": [
    {
     "name": "stdout",
     "output_type": "stream",
     "text": [
      "Model: \"sequential_2\"\n",
      "_________________________________________________________________\n",
      "Layer (type)                 Output Shape              Param #   \n",
      "=================================================================\n",
      "lstm_4 (LSTM)                (None, 33, 25)            2700      \n",
      "_________________________________________________________________\n",
      "dropout_4 (Dropout)          (None, 33, 25)            0         \n",
      "_________________________________________________________________\n",
      "lstm_5 (LSTM)                (None, 50)                15200     \n",
      "_________________________________________________________________\n",
      "dropout_5 (Dropout)          (None, 50)                0         \n",
      "_________________________________________________________________\n",
      "dense_2 (Dense)              (None, 1)                 51        \n",
      "=================================================================\n",
      "Total params: 17,951\n",
      "Trainable params: 17,951\n",
      "Non-trainable params: 0\n",
      "_________________________________________________________________\n"
     ]
    }
   ],
   "source": [
    "model=Sequential()\n",
    "model.add(LSTM(25, input_shape=(33,1), return_sequences=True))\n",
    "model.add(Dropout(0.2))\n",
    "model.add(LSTM(50))\n",
    "model.add(Dropout(0.2))\n",
    "model.add(Dense(1))\n",
    "\n",
    "model.compile(optimizer='adam', loss='mse')\n",
    "model.summary()"
   ]
  },
  {
   "cell_type": "code",
   "execution_count": 22,
   "metadata": {
    "scrolled": true
   },
   "outputs": [
    {
     "name": "stdout",
     "output_type": "stream",
     "text": [
      "Train on 214200 samples\n",
      "Epoch 1/15\n",
      "214200/214200 [==============================] - 16s 75us/sample - loss: 0.1302 - mse: 0.1302\n",
      "Epoch 2/15\n",
      "214200/214200 [==============================] - 15s 69us/sample - loss: 0.1252 - mse: 0.1252\n",
      "Epoch 3/15\n",
      "214200/214200 [==============================] - 14s 67us/sample - loss: 0.1244 - mse: 0.1244\n",
      "Epoch 4/15\n",
      "214200/214200 [==============================] - 14s 67us/sample - loss: 0.1238 - mse: 0.1238\n",
      "Epoch 5/15\n",
      "214200/214200 [==============================] - 14s 68us/sample - loss: 0.1238 - mse: 0.1238\n",
      "Epoch 6/15\n",
      "214200/214200 [==============================] - 14s 67us/sample - loss: 0.1238 - mse: 0.1238\n",
      "Epoch 7/15\n",
      "214200/214200 [==============================] - 14s 67us/sample - loss: 0.1241 - mse: 0.1241\n",
      "Epoch 8/15\n",
      "214200/214200 [==============================] - 14s 67us/sample - loss: 0.1237 - mse: 0.1237\n",
      "Epoch 9/15\n",
      "214200/214200 [==============================] - 15s 69us/sample - loss: 0.1235 - mse: 0.1235\n",
      "Epoch 10/15\n",
      "214200/214200 [==============================] - 15s 69us/sample - loss: 0.1236 - mse: 0.1236\n",
      "Epoch 11/15\n",
      "214200/214200 [==============================] - 15s 69us/sample - loss: 0.1233 - mse: 0.1233\n",
      "Epoch 12/15\n",
      "214200/214200 [==============================] - 15s 68us/sample - loss: 0.1234 - mse: 0.1234\n",
      "Epoch 13/15\n",
      "214200/214200 [==============================] - 15s 68us/sample - loss: 0.1234 - mse: 0.1234\n",
      "Epoch 14/15\n",
      "214200/214200 [==============================] - 15s 69us/sample - loss: 0.1235 - mse: 0.1235\n",
      "Epoch 15/15\n",
      "214200/214200 [==============================] - 15s 69us/sample - loss: 0.1233 - mse: 0.1233\n"
     ]
    },
    {
     "data": {
      "text/plain": [
       "<tensorflow.python.keras.callbacks.History at 0x2313a154a08>"
      ]
     },
     "execution_count": 22,
     "metadata": {},
     "output_type": "execute_result"
    }
   ],
   "source": [
    "model.fit(train_sales_combined_x, train_sales_y, verbose=1, epochs=15, batch_size=512)"
   ]
  },
  {
   "cell_type": "code",
   "execution_count": 106,
   "metadata": {},
   "outputs": [
    {
     "name": "stdout",
     "output_type": "stream",
     "text": [
      "Model: \"sequential_2\"\n",
      "_________________________________________________________________\n",
      "Layer (type)                 Output Shape              Param #   \n",
      "=================================================================\n",
      "lstm_4 (LSTM)                (None, 33, 16)            1216      \n",
      "_________________________________________________________________\n",
      "dropout_4 (Dropout)          (None, 33, 16)            0         \n",
      "_________________________________________________________________\n",
      "lstm_5 (LSTM)                (None, 32)                6272      \n",
      "_________________________________________________________________\n",
      "dropout_5 (Dropout)          (None, 32)                0         \n",
      "_________________________________________________________________\n",
      "dense_2 (Dense)              (None, 1)                 33        \n",
      "=================================================================\n",
      "Total params: 7,521\n",
      "Trainable params: 7,521\n",
      "Non-trainable params: 0\n",
      "_________________________________________________________________\n",
      "None\n"
     ]
    }
   ],
   "source": [
    "model = Sequential()\n",
    "model.add(LSTM(25, input_shape=(train_sales_combined_x.shape[1], train_sales_combined_x.shape[2]),return_sequences=True))\n",
    "model.add(Dropout(0.2))\n",
    "model.add(LSTM(50))\n",
    "model.add(Dropout(0.2))\n",
    "model.add(Dense(1))\n",
    "model.compile(optimizer=\"adam\", loss='mse', metrics=[\"mse\"])\n",
    "print(model.summary())"
   ]
  },
  {
   "cell_type": "code",
   "execution_count": 104,
   "metadata": {},
   "outputs": [
    {
     "name": "stdout",
     "output_type": "stream",
     "text": [
      "Train on 192780 samples, validate on 21420 samples\n",
      "Epoch 1/15\n",
      "192780/192780 [==============================] - 23s 120us/sample - loss: 3.5284 - mse: 3.5284 - val_loss: 0.5291 - val_mse: 0.5291\n",
      "Epoch 2/15\n",
      "192780/192780 [==============================] - 22s 112us/sample - loss: 3.4232 - mse: 3.4232 - val_loss: 0.5150 - val_mse: 0.5150\n",
      "Epoch 3/15\n",
      "192780/192780 [==============================] - 21s 111us/sample - loss: 3.4014 - mse: 3.4014 - val_loss: 0.5078 - val_mse: 0.5078\n",
      "Epoch 4/15\n",
      "192780/192780 [==============================] - 21s 111us/sample - loss: 3.4102 - mse: 3.4102 - val_loss: 0.4903 - val_mse: 0.4903\n",
      "Epoch 5/15\n",
      "192780/192780 [==============================] - 21s 110us/sample - loss: 3.3382 - mse: 3.3382 - val_loss: 0.4860 - val_mse: 0.4860\n",
      "Epoch 6/15\n",
      "192780/192780 [==============================] - 22s 114us/sample - loss: 3.3468 - mse: 3.3468 - val_loss: 0.4926 - val_mse: 0.4926\n",
      "Epoch 7/15\n",
      "192780/192780 [==============================] - 22s 115us/sample - loss: 3.2814 - mse: 3.2814 - val_loss: 0.5283 - val_mse: 0.5283\n",
      "Epoch 8/15\n",
      "192780/192780 [==============================] - 21s 111us/sample - loss: 3.3390 - mse: 3.3390 - val_loss: 0.4699 - val_mse: 0.4699\n",
      "Epoch 9/15\n",
      "192780/192780 [==============================] - 21s 110us/sample - loss: 3.1314 - mse: 3.1314 - val_loss: 0.4790 - val_mse: 0.4790\n",
      "Epoch 10/15\n",
      "192780/192780 [==============================] - 21s 109us/sample - loss: 3.1890 - mse: 3.1890 - val_loss: 0.4575 - val_mse: 0.4575\n",
      "Epoch 11/15\n",
      "192780/192780 [==============================] - 21s 111us/sample - loss: 3.1507 - mse: 3.1507 - val_loss: 0.4636 - val_mse: 0.4636\n",
      "Epoch 12/15\n",
      "192780/192780 [==============================] - 22s 117us/sample - loss: 3.2228 - mse: 3.2228 - val_loss: 0.4629 - val_mse: 0.4629\n",
      "Epoch 13/15\n",
      "192780/192780 [==============================] - 21s 111us/sample - loss: 3.1145 - mse: 3.1145 - val_loss: 0.4500 - val_mse: 0.4500\n",
      "Epoch 14/15\n",
      "192780/192780 [==============================] - 21s 109us/sample - loss: 3.1643 - mse: 3.1643 - val_loss: 0.4451 - val_mse: 0.4451\n",
      "Epoch 15/15\n",
      "192780/192780 [==============================] - 21s 110us/sample - loss: 3.2194 - mse: 3.2194 - val_loss: 0.4525 - val_mse: 0.4525\n",
      "Optimal Epoch: {} 13\n",
      "Train Score: 3.164322525268398, Validation Score: 0.4451129946075067\n"
     ]
    },
    {
     "data": {
      "image/png": "[encoded data removed]",
      "text/plain": [
       "<Figure size 432x288 with 1 Axes>"
      ]
     },
     "metadata": {
      "needs_background": "light"
     },
     "output_type": "display_data"
    }
   ],
   "source": [
    "callbacks=[EarlyStopping(monitor=\"val_loss\",min_delta=.001, patience=10,mode='auto')]\n",
    "LSTM = model.fit(x_train, y_train,\n",
    "                 validation_data=(x_valid, y_valid),\n",
    "                 callbacks=callbacks,\n",
    "                 batch_size=512, verbose=1, epochs=15)\n",
    "\n",
    "plt.plot(LSTM.history['loss'], label='train')\n",
    "plt.plot(LSTM.history['val_loss'], label='validation')\n",
    "plt.xlabel(\"Epoch\")\n",
    "plt.ylabel(\"mse\")\n",
    "plt.legend()\n",
    "plt.show()\n",
    "print(\"Optimal Epoch: {}\",np.argmin(hist.history[\"val_loss\"]))\n",
    "print(\"Train: {}, Validation: {}\".format(LSTM.history[\"loss\"][np.argmin(hist.history[\"val_loss\"])],LSTM.history[\"val_loss\"][np.argmin(hist.history[\"val_loss\"])]))"
   ]
  },
  {
   "cell_type": "code",
   "execution_count": 101,
   "metadata": {},
   "outputs": [],
   "source": [
    "test_sales['item_cnt_month']=model.predict(valid_combined)\n",
    "test_sales = test_sales.set_index('ID')\n",
    "test_sales=test_sales.drop(columns=['shop_id', 'item_id'])\n",
    "test_sales.to_csv(r'C:\\Users\\Student\\Desktop\\usedcar\\test_result.csv')"
   ]
  },
  {
   "cell_type": "code",
   "execution_count": null,
   "metadata": {},
   "outputs": [],
   "source": []
  }
 ],
 "metadata": {
  "kernelspec": {
   "display_name": "Python 3",
   "language": "python",
   "name": "python3"
  },
  "language_info": {
   "codemirror_mode": {
    "name": "ipython",
    "version": 3
   },
   "file_extension": ".py",
   "mimetype": "text/x-python",
   "name": "python",
   "nbconvert_exporter": "python",
   "pygments_lexer": "ipython3",
   "version": "3.7.4"
  }
 },
 "nbformat": 4,
 "nbformat_minor": 2
}
