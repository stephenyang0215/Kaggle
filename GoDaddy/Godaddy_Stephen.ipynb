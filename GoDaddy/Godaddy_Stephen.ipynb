{
  "cells": [
    {
      "cell_type": "code",
      "execution_count": null,
      "metadata": {
        "_cell_guid": "b1076dfc-b9ad-4769-8c92-a6c4dae69d19",
        "_uuid": "8f2839f25d086af736a60e9eeb907d3b93b6e0e5",
        "colab": {
          "base_uri": "https://localhost:8080/"
        },
        "execution": {
          "iopub.execute_input": "2023-01-13T02:19:51.907618Z",
          "iopub.status.busy": "2023-01-13T02:19:51.906985Z",
          "iopub.status.idle": "2023-01-13T02:19:52.704664Z",
          "shell.execute_reply": "2023-01-13T02:19:52.703424Z",
          "shell.execute_reply.started": "2023-01-13T02:19:51.907494Z"
        },
        "id": "ET0RwMZq-UoZ",
        "outputId": "ea14258f-9647-4300-c349-682e30e43c6a",
        "trusted": true
      },
      "outputs": [
        {
          "name": "stdout",
          "output_type": "stream",
          "text": [
            "Mounted at /content/drive\n",
            "/content/drive/MyDrive/godaddy-microbusiness-density-forecasting/sample_submission.csv\n",
            "/content/drive/MyDrive/godaddy-microbusiness-density-forecasting/census_starter.csv\n",
            "/content/drive/MyDrive/godaddy-microbusiness-density-forecasting/test.csv\n",
            "/content/drive/MyDrive/godaddy-microbusiness-density-forecasting/epcoh1000.data-00000-of-00001\n",
            "/content/drive/MyDrive/godaddy-microbusiness-density-forecasting/checkpoint\n",
            "/content/drive/MyDrive/godaddy-microbusiness-density-forecasting/train.csv\n",
            "/content/drive/MyDrive/godaddy-microbusiness-density-forecasting/submission.csv\n"
          ]
        }
      ],
      "source": [
        "# This Python 3 environment comes with many helpful analytics libraries installed\n",
        "# It is defined by the kaggle/python Docker image: https://github.com/kaggle/docker-python\n",
        "# For example, here's several helpful packages to load\n",
        "#import xgboost as xgb\n",
        "import numpy as np # linear algebra\n",
        "import pandas as pd # data processing, CSV file I/O (e.g. pd.read_csv)\n",
        "from matplotlib import mlab\n",
        "import matplotlib.pyplot as plt\n",
        "# Input data files are available in the read-only \"../input/\" directory\n",
        "# For example, running this (by clicking run or pressing Shift+Enter) will list all files under the input directory\n",
        "from google.colab import drive\n",
        "drive.mount('/content/drive')\n",
        "import os\n",
        "for dirname, _, filenames in os.walk('/content/drive/MyDrive/godaddy-microbusiness-density-forecasting'):\n",
        "    for filename in filenames:\n",
        "        print(os.path.join(dirname, filename))\n",
        "sample_submission = pd.read_csv(r'/content/drive/MyDrive/godaddy-microbusiness-density-forecasting/sample_submission.csv')\n",
        "test = pd.read_csv(r'/content/drive/MyDrive/godaddy-microbusiness-density-forecasting/test.csv')\n",
        "# You can write up to 20GB to the current directory (/kaggle/working/) that gets preserved as output when you create a version using \"Save & Run All\" \n",
        "# You can also write temporary files to /kaggle/temp/, but they won't be saved outside of the current session"
      ]
    },
    {
      "cell_type": "code",
      "execution_count": null,
      "metadata": {
        "colab": {
          "base_uri": "https://localhost:8080/"
        },
        "id": "sh72PcvmU7F8",
        "outputId": "03c0626d-8847-48be-f868-97ecc7e74761"
      },
      "outputs": [
        {
          "name": "stdout",
          "output_type": "stream",
          "text": [
            "Found existing installation: xgboost 0.90\n",
            "Uninstalling xgboost-0.90:\n",
            "  Would remove:\n",
            "    /usr/local/lib/python3.8/dist-packages/xgboost-0.90.dist-info/*\n",
            "    /usr/local/lib/python3.8/dist-packages/xgboost/*\n",
            "    /usr/local/xgboost/libxgboost.so\n",
            "Proceed (Y/n)? y\n",
            "  Successfully uninstalled xgboost-0.90\n"
          ]
        }
      ],
      "source": [
        "!pip uninstall xgboost"
      ]
    },
    {
      "cell_type": "code",
      "execution_count": null,
      "metadata": {
        "colab": {
          "base_uri": "https://localhost:8080/"
        },
        "id": "aq2E8RTdVQJw",
        "outputId": "ee138eb5-6a8c-4fcb-dce0-fcd63ad7d8fd"
      },
      "outputs": [
        {
          "name": "stdout",
          "output_type": "stream",
          "text": [
            "Looking in indexes: https://pypi.org/simple, https://us-python.pkg.dev/colab-wheels/public/simple/\n",
            "Collecting xgboost\n",
            "  Downloading xgboost-1.7.3-py3-none-manylinux2014_x86_64.whl (193.6 MB)\n",
            "\u001b[2K     \u001b[90m━━━━━━━━━━━━━━━━━━━━━━━━━━━━━━━━━━━━━━━\u001b[0m \u001b[32m193.6/193.6 MB\u001b[0m \u001b[31m4.7 MB/s\u001b[0m eta \u001b[36m0:00:00\u001b[0m\n",
            "\u001b[?25hRequirement already satisfied: numpy in /usr/local/lib/python3.8/dist-packages (from xgboost) (1.21.6)\n",
            "Requirement already satisfied: scipy in /usr/local/lib/python3.8/dist-packages (from xgboost) (1.7.3)\n",
            "Installing collected packages: xgboost\n",
            "Successfully installed xgboost-1.7.3\n"
          ]
        }
      ],
      "source": [
        "!pip install xgboost"
      ]
    },
    {
      "cell_type": "code",
      "execution_count": null,
      "metadata": {
        "colab": {
          "base_uri": "https://localhost:8080/",
          "height": 35
        },
        "id": "jHv2t4AIpIVF",
        "outputId": "a941b9f8-0139-4bb3-daf7-47e5df33c05e"
      },
      "outputs": [
        {
          "data": {
            "application/vnd.google.colaboratory.intrinsic+json": {
              "type": "string"
            },
            "text/plain": [
              "'1.7.3'"
            ]
          },
          "execution_count": 5,
          "metadata": {},
          "output_type": "execute_result"
        }
      ],
      "source": [
        "import xgboost as xgb\n",
        "xgb.__version__"
      ]
    },
    {
      "cell_type": "code",
      "execution_count": null,
      "metadata": {
        "colab": {
          "base_uri": "https://localhost:8080/",
          "height": 424
        },
        "execution": {
          "iopub.execute_input": "2023-01-13T02:28:03.360235Z",
          "iopub.status.busy": "2023-01-13T02:28:03.359786Z",
          "iopub.status.idle": "2023-01-13T02:28:04.380368Z",
          "shell.execute_reply": "2023-01-13T02:28:04.379281Z",
          "shell.execute_reply.started": "2023-01-13T02:28:03.360199Z"
        },
        "id": "wcSUE5jl-Uod",
        "outputId": "6f2a1b5e-e9f1-4026-e99d-b1023da0932b",
        "trusted": true
      },
      "outputs": [
        {
          "data": {
            "text/html": [
              "\n",
              "  <div id=\"df-9ca20f30-eb82-450f-9005-94f54fbabac9\">\n",
              "    <div class=\"colab-df-container\">\n",
              "      <div>\n",
              "<style scoped>\n",
              "    .dataframe tbody tr th:only-of-type {\n",
              "        vertical-align: middle;\n",
              "    }\n",
              "\n",
              "    .dataframe tbody tr th {\n",
              "        vertical-align: top;\n",
              "    }\n",
              "\n",
              "    .dataframe thead th {\n",
              "        text-align: right;\n",
              "    }\n",
              "</style>\n",
              "<table border=\"1\" class=\"dataframe\">\n",
              "  <thead>\n",
              "    <tr style=\"text-align: right;\">\n",
              "      <th></th>\n",
              "      <th>row_id</th>\n",
              "      <th>cfips</th>\n",
              "      <th>county</th>\n",
              "      <th>state</th>\n",
              "      <th>first_day_of_month</th>\n",
              "      <th>microbusiness_density</th>\n",
              "      <th>active</th>\n",
              "      <th>year</th>\n",
              "      <th>order</th>\n",
              "      <th>next_month_density</th>\n",
              "      <th>target</th>\n",
              "    </tr>\n",
              "  </thead>\n",
              "  <tbody>\n",
              "    <tr>\n",
              "      <th>0</th>\n",
              "      <td>1001_2019-08-01</td>\n",
              "      <td>1001</td>\n",
              "      <td>Autauga County</td>\n",
              "      <td>Alabama</td>\n",
              "      <td>2019-08-01</td>\n",
              "      <td>3.007682</td>\n",
              "      <td>1249</td>\n",
              "      <td>2019</td>\n",
              "      <td>0</td>\n",
              "      <td>2.884870</td>\n",
              "      <td>0.959167</td>\n",
              "    </tr>\n",
              "    <tr>\n",
              "      <th>1</th>\n",
              "      <td>1001_2019-09-01</td>\n",
              "      <td>1001</td>\n",
              "      <td>Autauga County</td>\n",
              "      <td>Alabama</td>\n",
              "      <td>2019-09-01</td>\n",
              "      <td>2.884870</td>\n",
              "      <td>1198</td>\n",
              "      <td>2019</td>\n",
              "      <td>1</td>\n",
              "      <td>3.055843</td>\n",
              "      <td>1.059265</td>\n",
              "    </tr>\n",
              "    <tr>\n",
              "      <th>2</th>\n",
              "      <td>1001_2019-10-01</td>\n",
              "      <td>1001</td>\n",
              "      <td>Autauga County</td>\n",
              "      <td>Alabama</td>\n",
              "      <td>2019-10-01</td>\n",
              "      <td>3.055843</td>\n",
              "      <td>1269</td>\n",
              "      <td>2019</td>\n",
              "      <td>2</td>\n",
              "      <td>2.993233</td>\n",
              "      <td>0.979511</td>\n",
              "    </tr>\n",
              "    <tr>\n",
              "      <th>3</th>\n",
              "      <td>1001_2019-11-01</td>\n",
              "      <td>1001</td>\n",
              "      <td>Autauga County</td>\n",
              "      <td>Alabama</td>\n",
              "      <td>2019-11-01</td>\n",
              "      <td>2.993233</td>\n",
              "      <td>1243</td>\n",
              "      <td>2019</td>\n",
              "      <td>3</td>\n",
              "      <td>2.993233</td>\n",
              "      <td>1.000000</td>\n",
              "    </tr>\n",
              "    <tr>\n",
              "      <th>4</th>\n",
              "      <td>1001_2019-12-01</td>\n",
              "      <td>1001</td>\n",
              "      <td>Autauga County</td>\n",
              "      <td>Alabama</td>\n",
              "      <td>2019-12-01</td>\n",
              "      <td>2.993233</td>\n",
              "      <td>1243</td>\n",
              "      <td>2019</td>\n",
              "      <td>4</td>\n",
              "      <td>2.969090</td>\n",
              "      <td>0.991934</td>\n",
              "    </tr>\n",
              "    <tr>\n",
              "      <th>...</th>\n",
              "      <td>...</td>\n",
              "      <td>...</td>\n",
              "      <td>...</td>\n",
              "      <td>...</td>\n",
              "      <td>...</td>\n",
              "      <td>...</td>\n",
              "      <td>...</td>\n",
              "      <td>...</td>\n",
              "      <td>...</td>\n",
              "      <td>...</td>\n",
              "      <td>...</td>\n",
              "    </tr>\n",
              "    <tr>\n",
              "      <th>122260</th>\n",
              "      <td>56045_2022-06-01</td>\n",
              "      <td>56045</td>\n",
              "      <td>Weston County</td>\n",
              "      <td>Wyoming</td>\n",
              "      <td>2022-06-01</td>\n",
              "      <td>1.803249</td>\n",
              "      <td>101</td>\n",
              "      <td>2022</td>\n",
              "      <td>34</td>\n",
              "      <td>1.803249</td>\n",
              "      <td>1.000000</td>\n",
              "    </tr>\n",
              "    <tr>\n",
              "      <th>122261</th>\n",
              "      <td>56045_2022-07-01</td>\n",
              "      <td>56045</td>\n",
              "      <td>Weston County</td>\n",
              "      <td>Wyoming</td>\n",
              "      <td>2022-07-01</td>\n",
              "      <td>1.803249</td>\n",
              "      <td>101</td>\n",
              "      <td>2022</td>\n",
              "      <td>35</td>\n",
              "      <td>1.785395</td>\n",
              "      <td>0.990099</td>\n",
              "    </tr>\n",
              "    <tr>\n",
              "      <th>122262</th>\n",
              "      <td>56045_2022-08-01</td>\n",
              "      <td>56045</td>\n",
              "      <td>Weston County</td>\n",
              "      <td>Wyoming</td>\n",
              "      <td>2022-08-01</td>\n",
              "      <td>1.785395</td>\n",
              "      <td>100</td>\n",
              "      <td>2022</td>\n",
              "      <td>36</td>\n",
              "      <td>1.785395</td>\n",
              "      <td>1.000000</td>\n",
              "    </tr>\n",
              "    <tr>\n",
              "      <th>122263</th>\n",
              "      <td>56045_2022-09-01</td>\n",
              "      <td>56045</td>\n",
              "      <td>Weston County</td>\n",
              "      <td>Wyoming</td>\n",
              "      <td>2022-09-01</td>\n",
              "      <td>1.785395</td>\n",
              "      <td>100</td>\n",
              "      <td>2022</td>\n",
              "      <td>37</td>\n",
              "      <td>1.785395</td>\n",
              "      <td>1.000000</td>\n",
              "    </tr>\n",
              "    <tr>\n",
              "      <th>122264</th>\n",
              "      <td>56045_2022-10-01</td>\n",
              "      <td>56045</td>\n",
              "      <td>Weston County</td>\n",
              "      <td>Wyoming</td>\n",
              "      <td>2022-10-01</td>\n",
              "      <td>1.785395</td>\n",
              "      <td>100</td>\n",
              "      <td>2022</td>\n",
              "      <td>38</td>\n",
              "      <td>NaN</td>\n",
              "      <td>NaN</td>\n",
              "    </tr>\n",
              "  </tbody>\n",
              "</table>\n",
              "<p>122265 rows × 11 columns</p>\n",
              "</div>\n",
              "      <button class=\"colab-df-convert\" onclick=\"convertToInteractive('df-9ca20f30-eb82-450f-9005-94f54fbabac9')\"\n",
              "              title=\"Convert this dataframe to an interactive table.\"\n",
              "              style=\"display:none;\">\n",
              "        \n",
              "  <svg xmlns=\"http://www.w3.org/2000/svg\" height=\"24px\"viewBox=\"0 0 24 24\"\n",
              "       width=\"24px\">\n",
              "    <path d=\"M0 0h24v24H0V0z\" fill=\"none\"/>\n",
              "    <path d=\"M18.56 5.44l.94 2.06.94-2.06 2.06-.94-2.06-.94-.94-2.06-.94 2.06-2.06.94zm-11 1L8.5 8.5l.94-2.06 2.06-.94-2.06-.94L8.5 2.5l-.94 2.06-2.06.94zm10 10l.94 2.06.94-2.06 2.06-.94-2.06-.94-.94-2.06-.94 2.06-2.06.94z\"/><path d=\"M17.41 7.96l-1.37-1.37c-.4-.4-.92-.59-1.43-.59-.52 0-1.04.2-1.43.59L10.3 9.45l-7.72 7.72c-.78.78-.78 2.05 0 2.83L4 21.41c.39.39.9.59 1.41.59.51 0 1.02-.2 1.41-.59l7.78-7.78 2.81-2.81c.8-.78.8-2.07 0-2.86zM5.41 20L4 18.59l7.72-7.72 1.47 1.35L5.41 20z\"/>\n",
              "  </svg>\n",
              "      </button>\n",
              "      \n",
              "  <style>\n",
              "    .colab-df-container {\n",
              "      display:flex;\n",
              "      flex-wrap:wrap;\n",
              "      gap: 12px;\n",
              "    }\n",
              "\n",
              "    .colab-df-convert {\n",
              "      background-color: #E8F0FE;\n",
              "      border: none;\n",
              "      border-radius: 50%;\n",
              "      cursor: pointer;\n",
              "      display: none;\n",
              "      fill: #1967D2;\n",
              "      height: 32px;\n",
              "      padding: 0 0 0 0;\n",
              "      width: 32px;\n",
              "    }\n",
              "\n",
              "    .colab-df-convert:hover {\n",
              "      background-color: #E2EBFA;\n",
              "      box-shadow: 0px 1px 2px rgba(60, 64, 67, 0.3), 0px 1px 3px 1px rgba(60, 64, 67, 0.15);\n",
              "      fill: #174EA6;\n",
              "    }\n",
              "\n",
              "    [theme=dark] .colab-df-convert {\n",
              "      background-color: #3B4455;\n",
              "      fill: #D2E3FC;\n",
              "    }\n",
              "\n",
              "    [theme=dark] .colab-df-convert:hover {\n",
              "      background-color: #434B5C;\n",
              "      box-shadow: 0px 1px 3px 1px rgba(0, 0, 0, 0.15);\n",
              "      filter: drop-shadow(0px 1px 2px rgba(0, 0, 0, 0.3));\n",
              "      fill: #FFFFFF;\n",
              "    }\n",
              "  </style>\n",
              "\n",
              "      <script>\n",
              "        const buttonEl =\n",
              "          document.querySelector('#df-9ca20f30-eb82-450f-9005-94f54fbabac9 button.colab-df-convert');\n",
              "        buttonEl.style.display =\n",
              "          google.colab.kernel.accessAllowed ? 'block' : 'none';\n",
              "\n",
              "        async function convertToInteractive(key) {\n",
              "          const element = document.querySelector('#df-9ca20f30-eb82-450f-9005-94f54fbabac9');\n",
              "          const dataTable =\n",
              "            await google.colab.kernel.invokeFunction('convertToInteractive',\n",
              "                                                     [key], {});\n",
              "          if (!dataTable) return;\n",
              "\n",
              "          const docLinkHtml = 'Like what you see? Visit the ' +\n",
              "            '<a target=\"_blank\" href=https://colab.research.google.com/notebooks/data_table.ipynb>data table notebook</a>'\n",
              "            + ' to learn more about interactive tables.';\n",
              "          element.innerHTML = '';\n",
              "          dataTable['output_type'] = 'display_data';\n",
              "          await google.colab.output.renderOutput(dataTable, element);\n",
              "          const docLink = document.createElement('div');\n",
              "          docLink.innerHTML = docLinkHtml;\n",
              "          element.appendChild(docLink);\n",
              "        }\n",
              "      </script>\n",
              "    </div>\n",
              "  </div>\n",
              "  "
            ],
            "text/plain": [
              "                  row_id  cfips          county    state first_day_of_month  \\\n",
              "0        1001_2019-08-01   1001  Autauga County  Alabama         2019-08-01   \n",
              "1        1001_2019-09-01   1001  Autauga County  Alabama         2019-09-01   \n",
              "2        1001_2019-10-01   1001  Autauga County  Alabama         2019-10-01   \n",
              "3        1001_2019-11-01   1001  Autauga County  Alabama         2019-11-01   \n",
              "4        1001_2019-12-01   1001  Autauga County  Alabama         2019-12-01   \n",
              "...                  ...    ...             ...      ...                ...   \n",
              "122260  56045_2022-06-01  56045   Weston County  Wyoming         2022-06-01   \n",
              "122261  56045_2022-07-01  56045   Weston County  Wyoming         2022-07-01   \n",
              "122262  56045_2022-08-01  56045   Weston County  Wyoming         2022-08-01   \n",
              "122263  56045_2022-09-01  56045   Weston County  Wyoming         2022-09-01   \n",
              "122264  56045_2022-10-01  56045   Weston County  Wyoming         2022-10-01   \n",
              "\n",
              "        microbusiness_density  active  year  order  next_month_density  \\\n",
              "0                    3.007682    1249  2019      0            2.884870   \n",
              "1                    2.884870    1198  2019      1            3.055843   \n",
              "2                    3.055843    1269  2019      2            2.993233   \n",
              "3                    2.993233    1243  2019      3            2.993233   \n",
              "4                    2.993233    1243  2019      4            2.969090   \n",
              "...                       ...     ...   ...    ...                 ...   \n",
              "122260               1.803249     101  2022     34            1.803249   \n",
              "122261               1.803249     101  2022     35            1.785395   \n",
              "122262               1.785395     100  2022     36            1.785395   \n",
              "122263               1.785395     100  2022     37            1.785395   \n",
              "122264               1.785395     100  2022     38                 NaN   \n",
              "\n",
              "          target  \n",
              "0       0.959167  \n",
              "1       1.059265  \n",
              "2       0.979511  \n",
              "3       1.000000  \n",
              "4       0.991934  \n",
              "...          ...  \n",
              "122260  1.000000  \n",
              "122261  0.990099  \n",
              "122262  1.000000  \n",
              "122263  1.000000  \n",
              "122264       NaN  \n",
              "\n",
              "[122265 rows x 11 columns]"
            ]
          },
          "execution_count": 143,
          "metadata": {},
          "output_type": "execute_result"
        }
      ],
      "source": [
        "#Train Data\n",
        "train = pd.read_csv(r'/content/drive/MyDrive/godaddy-microbusiness-density-forecasting/train.csv')\n",
        "train['first_day_of_month'] = pd.to_datetime(train['first_day_of_month'])\n",
        "#extract date from row_id\n",
        "date = train['row_id'].str.split('_').apply(lambda x:x[1])\n",
        "year = date.str.split('-').apply(lambda x:x[0])\n",
        "train['year'] = year\n",
        "train['year'] = train['year'].astype(int)\n",
        "#give order to each cfipgs by it's sequence\n",
        "train['order'] = train.groupby(['cfips'])['row_id'].cumcount()\n",
        "#Calculate microbusiness_density(Rate of Change) -> price(time n) / price(time n-1)\n",
        "train['next_month_density'] = train.groupby('cfips')['microbusiness_density'].shift(-1)\n",
        "train.loc[train[train['order']!=38].index, 'next_month_density'].fillna(1, inplace=True)\n",
        "train.loc[train[train['order']!=38].index, 'next_month_density'].replace(0,1, inplace=True)\n",
        "train.loc[train[(train['microbusiness_density']==0)&(train['next_month_density']!=0)&(train['order']!=38)].index, 'microbusiness_density'] = 1\n",
        "train['target'] = train['next_month_density'] / train['microbusiness_density']\n",
        "train = train.reset_index(drop=True)\n",
        "train.loc[train[(train['order']!=38)&(train['target'].isnull())].index,'target'] = 1\n",
        "train"
      ]
    },
    {
      "cell_type": "code",
      "execution_count": null,
      "metadata": {
        "colab": {
          "base_uri": "https://localhost:8080/",
          "height": 488
        },
        "execution": {
          "iopub.execute_input": "2023-01-13T02:20:00.905224Z",
          "iopub.status.busy": "2023-01-13T02:20:00.904071Z",
          "iopub.status.idle": "2023-01-13T02:20:01.650763Z",
          "shell.execute_reply": "2023-01-13T02:20:01.649051Z",
          "shell.execute_reply.started": "2023-01-13T02:20:00.905175Z"
        },
        "id": "SWT0sqfB-Uoc",
        "outputId": "254a1490-7e3b-4280-ad75-32f8cd0babe7",
        "trusted": true
      },
      "outputs": [
        {
          "data": {
            "text/html": [
              "\n",
              "  <div id=\"df-7231f596-caea-4889-a6b1-3994f8725008\">\n",
              "    <div class=\"colab-df-container\">\n",
              "      <div>\n",
              "<style scoped>\n",
              "    .dataframe tbody tr th:only-of-type {\n",
              "        vertical-align: middle;\n",
              "    }\n",
              "\n",
              "    .dataframe tbody tr th {\n",
              "        vertical-align: top;\n",
              "    }\n",
              "\n",
              "    .dataframe thead th {\n",
              "        text-align: right;\n",
              "    }\n",
              "</style>\n",
              "<table border=\"1\" class=\"dataframe\">\n",
              "  <thead>\n",
              "    <tr style=\"text-align: right;\">\n",
              "      <th></th>\n",
              "      <th>cfips</th>\n",
              "      <th>year</th>\n",
              "      <th>pct_bb</th>\n",
              "      <th>pct_college</th>\n",
              "      <th>pct_foreign_born</th>\n",
              "      <th>pct_it_workers</th>\n",
              "      <th>median_hh_inc</th>\n",
              "      <th>pct_bb_diff</th>\n",
              "      <th>pct_college_diff</th>\n",
              "      <th>pct_foreign_born_diff</th>\n",
              "      <th>pct_it_workers_diff</th>\n",
              "      <th>median_hh_inc_diff</th>\n",
              "    </tr>\n",
              "  </thead>\n",
              "  <tbody>\n",
              "    <tr>\n",
              "      <th>0</th>\n",
              "      <td>1001</td>\n",
              "      <td>2018</td>\n",
              "      <td>76.6</td>\n",
              "      <td>14.5</td>\n",
              "      <td>2.1</td>\n",
              "      <td>1.3</td>\n",
              "      <td>55317.0</td>\n",
              "      <td>NaN</td>\n",
              "      <td>NaN</td>\n",
              "      <td>NaN</td>\n",
              "      <td>NaN</td>\n",
              "      <td>NaN</td>\n",
              "    </tr>\n",
              "    <tr>\n",
              "      <th>1</th>\n",
              "      <td>1003</td>\n",
              "      <td>2018</td>\n",
              "      <td>74.5</td>\n",
              "      <td>20.4</td>\n",
              "      <td>3.2</td>\n",
              "      <td>1.4</td>\n",
              "      <td>52562.0</td>\n",
              "      <td>NaN</td>\n",
              "      <td>NaN</td>\n",
              "      <td>NaN</td>\n",
              "      <td>NaN</td>\n",
              "      <td>NaN</td>\n",
              "    </tr>\n",
              "    <tr>\n",
              "      <th>2</th>\n",
              "      <td>1005</td>\n",
              "      <td>2018</td>\n",
              "      <td>57.2</td>\n",
              "      <td>7.6</td>\n",
              "      <td>2.7</td>\n",
              "      <td>0.5</td>\n",
              "      <td>33368.0</td>\n",
              "      <td>NaN</td>\n",
              "      <td>NaN</td>\n",
              "      <td>NaN</td>\n",
              "      <td>NaN</td>\n",
              "      <td>NaN</td>\n",
              "    </tr>\n",
              "    <tr>\n",
              "      <th>3</th>\n",
              "      <td>1007</td>\n",
              "      <td>2018</td>\n",
              "      <td>62.0</td>\n",
              "      <td>8.1</td>\n",
              "      <td>1.0</td>\n",
              "      <td>1.2</td>\n",
              "      <td>43404.0</td>\n",
              "      <td>NaN</td>\n",
              "      <td>NaN</td>\n",
              "      <td>NaN</td>\n",
              "      <td>NaN</td>\n",
              "      <td>NaN</td>\n",
              "    </tr>\n",
              "    <tr>\n",
              "      <th>4</th>\n",
              "      <td>1009</td>\n",
              "      <td>2018</td>\n",
              "      <td>65.8</td>\n",
              "      <td>8.7</td>\n",
              "      <td>4.5</td>\n",
              "      <td>1.3</td>\n",
              "      <td>47412.0</td>\n",
              "      <td>NaN</td>\n",
              "      <td>NaN</td>\n",
              "      <td>NaN</td>\n",
              "      <td>NaN</td>\n",
              "      <td>NaN</td>\n",
              "    </tr>\n",
              "    <tr>\n",
              "      <th>...</th>\n",
              "      <td>...</td>\n",
              "      <td>...</td>\n",
              "      <td>...</td>\n",
              "      <td>...</td>\n",
              "      <td>...</td>\n",
              "      <td>...</td>\n",
              "      <td>...</td>\n",
              "      <td>...</td>\n",
              "      <td>...</td>\n",
              "      <td>...</td>\n",
              "      <td>...</td>\n",
              "      <td>...</td>\n",
              "    </tr>\n",
              "    <tr>\n",
              "      <th>15705</th>\n",
              "      <td>56037</td>\n",
              "      <td>2022</td>\n",
              "      <td>88.4</td>\n",
              "      <td>12.4</td>\n",
              "      <td>5.5</td>\n",
              "      <td>1.0</td>\n",
              "      <td>76668.0</td>\n",
              "      <td>0.009709</td>\n",
              "      <td>0.049808</td>\n",
              "      <td>0.028037</td>\n",
              "      <td>0.052632</td>\n",
              "      <td>0.021886</td>\n",
              "    </tr>\n",
              "    <tr>\n",
              "      <th>15706</th>\n",
              "      <td>56039</td>\n",
              "      <td>2022</td>\n",
              "      <td>90.5</td>\n",
              "      <td>38.3</td>\n",
              "      <td>11.1</td>\n",
              "      <td>2.0</td>\n",
              "      <td>94498.0</td>\n",
              "      <td>0.007795</td>\n",
              "      <td>0.014570</td>\n",
              "      <td>0.013333</td>\n",
              "      <td>0.142857</td>\n",
              "      <td>0.041008</td>\n",
              "    </tr>\n",
              "    <tr>\n",
              "      <th>15707</th>\n",
              "      <td>56041</td>\n",
              "      <td>2022</td>\n",
              "      <td>90.6</td>\n",
              "      <td>12.3</td>\n",
              "      <td>2.9</td>\n",
              "      <td>0.9</td>\n",
              "      <td>75106.0</td>\n",
              "      <td>0.004396</td>\n",
              "      <td>0.012048</td>\n",
              "      <td>0.000000</td>\n",
              "      <td>0.307692</td>\n",
              "      <td>0.017945</td>\n",
              "    </tr>\n",
              "    <tr>\n",
              "      <th>15708</th>\n",
              "      <td>56043</td>\n",
              "      <td>2022</td>\n",
              "      <td>85.4</td>\n",
              "      <td>17.2</td>\n",
              "      <td>1.0</td>\n",
              "      <td>1.1</td>\n",
              "      <td>62271.0</td>\n",
              "      <td>0.015458</td>\n",
              "      <td>0.068323</td>\n",
              "      <td>0.375000</td>\n",
              "      <td>0.100000</td>\n",
              "      <td>0.041521</td>\n",
              "    </tr>\n",
              "    <tr>\n",
              "      <th>15709</th>\n",
              "      <td>56045</td>\n",
              "      <td>2022</td>\n",
              "      <td>81.3</td>\n",
              "      <td>13.9</td>\n",
              "      <td>1.6</td>\n",
              "      <td>0.0</td>\n",
              "      <td>65566.0</td>\n",
              "      <td>0.009938</td>\n",
              "      <td>0.045113</td>\n",
              "      <td>0.179487</td>\n",
              "      <td>NaN</td>\n",
              "      <td>0.102886</td>\n",
              "    </tr>\n",
              "  </tbody>\n",
              "</table>\n",
              "<p>15710 rows × 12 columns</p>\n",
              "</div>\n",
              "      <button class=\"colab-df-convert\" onclick=\"convertToInteractive('df-7231f596-caea-4889-a6b1-3994f8725008')\"\n",
              "              title=\"Convert this dataframe to an interactive table.\"\n",
              "              style=\"display:none;\">\n",
              "        \n",
              "  <svg xmlns=\"http://www.w3.org/2000/svg\" height=\"24px\"viewBox=\"0 0 24 24\"\n",
              "       width=\"24px\">\n",
              "    <path d=\"M0 0h24v24H0V0z\" fill=\"none\"/>\n",
              "    <path d=\"M18.56 5.44l.94 2.06.94-2.06 2.06-.94-2.06-.94-.94-2.06-.94 2.06-2.06.94zm-11 1L8.5 8.5l.94-2.06 2.06-.94-2.06-.94L8.5 2.5l-.94 2.06-2.06.94zm10 10l.94 2.06.94-2.06 2.06-.94-2.06-.94-.94-2.06-.94 2.06-2.06.94z\"/><path d=\"M17.41 7.96l-1.37-1.37c-.4-.4-.92-.59-1.43-.59-.52 0-1.04.2-1.43.59L10.3 9.45l-7.72 7.72c-.78.78-.78 2.05 0 2.83L4 21.41c.39.39.9.59 1.41.59.51 0 1.02-.2 1.41-.59l7.78-7.78 2.81-2.81c.8-.78.8-2.07 0-2.86zM5.41 20L4 18.59l7.72-7.72 1.47 1.35L5.41 20z\"/>\n",
              "  </svg>\n",
              "      </button>\n",
              "      \n",
              "  <style>\n",
              "    .colab-df-container {\n",
              "      display:flex;\n",
              "      flex-wrap:wrap;\n",
              "      gap: 12px;\n",
              "    }\n",
              "\n",
              "    .colab-df-convert {\n",
              "      background-color: #E8F0FE;\n",
              "      border: none;\n",
              "      border-radius: 50%;\n",
              "      cursor: pointer;\n",
              "      display: none;\n",
              "      fill: #1967D2;\n",
              "      height: 32px;\n",
              "      padding: 0 0 0 0;\n",
              "      width: 32px;\n",
              "    }\n",
              "\n",
              "    .colab-df-convert:hover {\n",
              "      background-color: #E2EBFA;\n",
              "      box-shadow: 0px 1px 2px rgba(60, 64, 67, 0.3), 0px 1px 3px 1px rgba(60, 64, 67, 0.15);\n",
              "      fill: #174EA6;\n",
              "    }\n",
              "\n",
              "    [theme=dark] .colab-df-convert {\n",
              "      background-color: #3B4455;\n",
              "      fill: #D2E3FC;\n",
              "    }\n",
              "\n",
              "    [theme=dark] .colab-df-convert:hover {\n",
              "      background-color: #434B5C;\n",
              "      box-shadow: 0px 1px 3px 1px rgba(0, 0, 0, 0.15);\n",
              "      filter: drop-shadow(0px 1px 2px rgba(0, 0, 0, 0.3));\n",
              "      fill: #FFFFFF;\n",
              "    }\n",
              "  </style>\n",
              "\n",
              "      <script>\n",
              "        const buttonEl =\n",
              "          document.querySelector('#df-7231f596-caea-4889-a6b1-3994f8725008 button.colab-df-convert');\n",
              "        buttonEl.style.display =\n",
              "          google.colab.kernel.accessAllowed ? 'block' : 'none';\n",
              "\n",
              "        async function convertToInteractive(key) {\n",
              "          const element = document.querySelector('#df-7231f596-caea-4889-a6b1-3994f8725008');\n",
              "          const dataTable =\n",
              "            await google.colab.kernel.invokeFunction('convertToInteractive',\n",
              "                                                     [key], {});\n",
              "          if (!dataTable) return;\n",
              "\n",
              "          const docLinkHtml = 'Like what you see? Visit the ' +\n",
              "            '<a target=\"_blank\" href=https://colab.research.google.com/notebooks/data_table.ipynb>data table notebook</a>'\n",
              "            + ' to learn more about interactive tables.';\n",
              "          element.innerHTML = '';\n",
              "          dataTable['output_type'] = 'display_data';\n",
              "          await google.colab.output.renderOutput(dataTable, element);\n",
              "          const docLink = document.createElement('div');\n",
              "          docLink.innerHTML = docLinkHtml;\n",
              "          element.appendChild(docLink);\n",
              "        }\n",
              "      </script>\n",
              "    </div>\n",
              "  </div>\n",
              "  "
            ],
            "text/plain": [
              "       cfips  year  pct_bb  pct_college  pct_foreign_born  pct_it_workers  \\\n",
              "0       1001  2018    76.6         14.5               2.1             1.3   \n",
              "1       1003  2018    74.5         20.4               3.2             1.4   \n",
              "2       1005  2018    57.2          7.6               2.7             0.5   \n",
              "3       1007  2018    62.0          8.1               1.0             1.2   \n",
              "4       1009  2018    65.8          8.7               4.5             1.3   \n",
              "...      ...   ...     ...          ...               ...             ...   \n",
              "15705  56037  2022    88.4         12.4               5.5             1.0   \n",
              "15706  56039  2022    90.5         38.3              11.1             2.0   \n",
              "15707  56041  2022    90.6         12.3               2.9             0.9   \n",
              "15708  56043  2022    85.4         17.2               1.0             1.1   \n",
              "15709  56045  2022    81.3         13.9               1.6             0.0   \n",
              "\n",
              "       median_hh_inc  pct_bb_diff  pct_college_diff  pct_foreign_born_diff  \\\n",
              "0            55317.0          NaN               NaN                    NaN   \n",
              "1            52562.0          NaN               NaN                    NaN   \n",
              "2            33368.0          NaN               NaN                    NaN   \n",
              "3            43404.0          NaN               NaN                    NaN   \n",
              "4            47412.0          NaN               NaN                    NaN   \n",
              "...              ...          ...               ...                    ...   \n",
              "15705        76668.0     0.009709          0.049808               0.028037   \n",
              "15706        94498.0     0.007795          0.014570               0.013333   \n",
              "15707        75106.0     0.004396          0.012048               0.000000   \n",
              "15708        62271.0     0.015458          0.068323               0.375000   \n",
              "15709        65566.0     0.009938          0.045113               0.179487   \n",
              "\n",
              "       pct_it_workers_diff  median_hh_inc_diff  \n",
              "0                      NaN                 NaN  \n",
              "1                      NaN                 NaN  \n",
              "2                      NaN                 NaN  \n",
              "3                      NaN                 NaN  \n",
              "4                      NaN                 NaN  \n",
              "...                    ...                 ...  \n",
              "15705             0.052632            0.021886  \n",
              "15706             0.142857            0.041008  \n",
              "15707             0.307692            0.017945  \n",
              "15708             0.100000            0.041521  \n",
              "15709                  NaN            0.102886  \n",
              "\n",
              "[15710 rows x 12 columns]"
            ]
          },
          "execution_count": 146,
          "metadata": {},
          "output_type": "execute_result"
        }
      ],
      "source": [
        "#Census data from Census Bureau's American Community Survey (ACS)\n",
        "#Suspended!\n",
        "census_starter = pd.read_csv(r'/content/drive/MyDrive/godaddy-microbusiness-density-forecasting/census_starter.csv')\n",
        "census_starter_data = pd.DataFrame(columns=['cfips','year'])\n",
        "for subject in ['pct_bb','pct_college','pct_foreign_born','pct_it_workers','median_hh_inc']:\n",
        "    subject_list = [i for i in census_starter.columns if(subject in i)]\n",
        "    subject_list.insert(0,'cfips')\n",
        "    subject_tb = census_starter[subject_list].melt(id_vars=[\"cfips\"], var_name=\"type\", value_name=subject)\n",
        "    subject_tb['year'] = subject_tb['type'].str.split('_').apply(lambda x :x[-1])\n",
        "    subject_tb = subject_tb[['cfips', 'year', subject]]\n",
        "    census_starter_data = census_starter_data.merge(subject_tb, on=['cfips', 'year'], how='outer')\n",
        "#last year census starter mapped to current year of train data\n",
        "census_starter_data['year'] = (census_starter_data['year'].astype(int)+1)\n",
        "#Calculate customized rate of change(ROC) for each column in census_starter\n",
        "def census_diff_func(data, column_lst):\n",
        "  for column in column_lst:\n",
        "    column_lag = data.groupby('cfips')[column].shift(1)\n",
        "    data[f'{column}_diff'] = abs(data[column] - column_lag)/(data[column] + column_lag)\n",
        "  return data\n",
        "census_lst = ['pct_bb', 'pct_college', 'pct_foreign_born','pct_it_workers', 'median_hh_inc']\n",
        "census_starter_data = census_diff_func(census_starter_data, census_lst)\n",
        "#train = train.merge(census_starter_data, on=['cfips', 'year'], how='left')\n",
        "census_starter_data"
      ]
    },
    {
      "cell_type": "code",
      "execution_count": null,
      "metadata": {
        "colab": {
          "base_uri": "https://localhost:8080/"
        },
        "id": "su145y6Bkc9Z",
        "outputId": "d09e8c6d-691d-4f0b-ca99-7e1106205a54"
      },
      "outputs": [
        {
          "name": "stdout",
          "output_type": "stream",
          "text": [
            "census_starter: 2018\n",
            "census_starter: 2022\n"
          ]
        }
      ],
      "source": [
        "print('census_starter:',census_starter_data.year.min())\n",
        "print('census_starter:',census_starter_data.year.max())"
      ]
    },
    {
      "cell_type": "code",
      "execution_count": null,
      "metadata": {
        "colab": {
          "base_uri": "https://localhost:8080/"
        },
        "id": "Srf0SNmJsPeQ",
        "outputId": "73ce4341-146c-4718-f499-79a73e34d93c"
      },
      "outputs": [
        {
          "name": "stdout",
          "output_type": "stream",
          "text": [
            "Train min date: 2019-08-01 00:00:00\n",
            "Train max date: 2022-10-01 00:00:00\n",
            "Test min date: 2022-11-01\n",
            "Test Max date: 2023-06-01\n"
          ]
        }
      ],
      "source": [
        "print('Train min date:',train['first_day_of_month'].min())\n",
        "print('Train max date:',train['first_day_of_month'].max())\n",
        "print('Test min date:',test['first_day_of_month'].min())\n",
        "print('Test Max date:',test['first_day_of_month'].max())"
      ]
    },
    {
      "cell_type": "code",
      "execution_count": null,
      "metadata": {
        "id": "Fh1nP8SO5LrO"
      },
      "outputs": [],
      "source": [
        "#Moving Average of the features : SMA/CMA/EMA\n",
        "#from time t to (t - num)\n",
        "def mv_avg(data, column, num):\n",
        "  data[f'{column}_lag'] = data.groupby('cfips')[column].shift(1)\n",
        "  data[f'{column}_diff'] = abs(data[column] - data[f'{column}_lag'])/(data[column] + data[f'{column}_lag'])\n",
        "  column_sma = data.groupby('cfips')[column].rolling(num).mean().reset_index(level=0, drop=True)\n",
        "  data[f'{column}_SMA'] = column_sma.rename(f'{column}_SMA').reset_index(level=0)[f'{column}_SMA']\n",
        "  data[f'{column}_SMA_diff'] = abs(data[column] - data[f'{column}_SMA'])/(data[column] + data[f'{column}_SMA'])\n",
        "\n",
        "  column_cma = data.groupby('cfips')[column].expanding().mean()\n",
        "  data[f'{column}_CMA'] = column_cma.rename(f'{column}_CMA').reset_index(level=0)[f'{column}_CMA']\n",
        "  data[f'{column}_CMA_diff'] = abs(data[column] - data[f'{column}_CMA'])/(data[column] + data[f'{column}_CMA'])\n",
        "\n",
        "  column_ema = data.groupby('cfips')[column].ewm(span=num).mean()\n",
        "  data[f'{column}_EMA'] = column_ema.rename(f'{column}_EMA').reset_index(level=0)[f'{column}_EMA']\n",
        "  data[f'{column}_EMA_diff'] = abs(data[column] - data[f'{column}_EMA'])/(data[column] + data[f'{column}_EMA'])\n",
        "  return data\n",
        "num = 5\n",
        "train = mv_avg(train, 'target', num)\n",
        "#train = mv_avg(train, 'active')"
      ]
    },
    {
      "cell_type": "code",
      "execution_count": null,
      "metadata": {
        "id": "3JnGsbEoBGul"
      },
      "outputs": [],
      "source": [
        "#target - Customized Change of Rate\n",
        "target_lag = train.groupby('cfips')['target'].shift(1)\n",
        "train['target_diff'] = abs(train['target'] - target_lag)/(train['target'] + target_lag)"
      ]
    },
    {
      "cell_type": "code",
      "execution_count": null,
      "metadata": {
        "colab": {
          "base_uri": "https://localhost:8080/",
          "height": 297
        },
        "id": "c4xuYRfUBSVU",
        "outputId": "c953bc0f-7e87-416d-c483-67b523af97a4"
      },
      "outputs": [
        {
          "data": {
            "text/plain": [
              "<matplotlib.axes._subplots.AxesSubplot at 0x7fc048c2aa00>"
            ]
          },
          "execution_count": 151,
          "metadata": {},
          "output_type": "execute_result"
        },
        {
          "data": {
            "image/png": "[encoded data removed]",
            "text/plain": [
              "<Figure size 432x288 with 1 Axes>"
            ]
          },
          "metadata": {
            "needs_background": "light"
          },
          "output_type": "display_data"
        }
      ],
      "source": [
        "#原始值\n",
        "train.groupby('order')['target_diff'].sum().plot()"
      ]
    },
    {
      "cell_type": "code",
      "execution_count": null,
      "metadata": {
        "colab": {
          "base_uri": "https://localhost:8080/",
          "height": 297
        },
        "id": "uGXHQqKtCOnD",
        "outputId": "a6cdc25c-84dd-4f16-f870-6995a6ddff23"
      },
      "outputs": [
        {
          "data": {
            "text/plain": [
              "<matplotlib.axes._subplots.AxesSubplot at 0x7fc0451f0a60>"
            ]
          },
          "execution_count": 152,
          "metadata": {},
          "output_type": "execute_result"
        },
        {
          "data": {
            "image/png": "[encoded data removed]",
            "text/plain": [
              "<Figure size 432x288 with 1 Axes>"
            ]
          },
          "metadata": {
            "needs_background": "light"
          },
          "output_type": "display_data"
        }
      ],
      "source": [
        "#移除cfips_over名單\n",
        "#補上moving average\n",
        "cfips_over5 = [5145,13061,13287, 18073, 21007, 26095, 28097, 28125, 28129, 29059, 30103,\n",
        " 31049, 31115, 32027, 37177, 38091, 40141, 46031, 46055,46073, 46107, 47031, 47033, 47153, \n",
        " 47175, 48109, 48155,48263, 48311, 48345, 48391]\n",
        "\n",
        "cfips_over10 = [8031,12001, 13239, 15005, 19143,\n",
        " 31011, 31171, 32510, 38087, 41023, 46069,51121]\n",
        "train[~train['cfips'].isin(cfips_over5+cfips_over10)].groupby('order')['target_diff'].sum().plot()"
      ]
    },
    {
      "cell_type": "code",
      "execution_count": null,
      "metadata": {
        "id": "J01moxAtXRwE"
      },
      "outputs": [],
      "source": [
        "#Overwrite target values over lower and upper bounds with corresponding EMA target values(time t-1)\n",
        "lower_bound_percentile = .0125\n",
        "lower_bound = train['target'].quantile([lower_bound_percentile])[lower_bound_percentile]\n",
        "upper_bound_percentile = .9875\n",
        "upper_bound = train['target'].quantile([upper_bound_percentile])[upper_bound_percentile]\n",
        "\n",
        "outlier = train[(train['target']>upper_bound)|(train['target']<lower_bound)]['cfips'].unique()\n",
        "print('Number of outliers to be cleansed', outlier.shape[0])\n",
        "drop_lst = []\n",
        "for cfips in outlier:\n",
        "  #Plot Moving Average\n",
        "  cfips_data = train[train['cfips']==cfips][['target', 'target_SMA', 'target_CMA', 'target_EMA']]\n",
        "  #cfips_data.plot(label='RELIANCE',figsize=(12, 5))\n",
        "  idx_lst = cfips_data[(cfips_data['target']>upper_bound)|(cfips_data['target']<lower_bound)].index\n",
        "  for idx in list(idx_lst)[::-1]:\n",
        "    if idx == cfips_data.index[0]:\n",
        "      train.drop(idx, inplace=True)\n",
        "      print('Drop first row of the cfips')\n",
        "      drop_lst.append(idx)\n",
        "    else:\n",
        "      print('Target value : ', cfips_data.loc[idx-1:idx, 'target'])\n",
        "      print('SMA ', cfips_data.loc[idx-1, 'target_SMA'])\n",
        "      print('CMA ', cfips_data.loc[idx-1, 'target_CMA'])\n",
        "      print('EMA ',cfips_data.loc[idx-1, 'target_EMA'])\n",
        "      #Overwrite the outlier value of t step with moving average value of t-1 step\n",
        "\n",
        "      target = train.loc[idx, 'target']\n",
        "      ma = cfips_data.loc[idx-1, 'target_EMA']\n",
        "      if ma > upper_bound:\n",
        "        ma = upper_bound\n",
        "      elif ma < lower_bound:\n",
        "        ma = lower_bound\n",
        "      train.loc[idx, 'target'] = ma\n",
        "      print('target got replace with t-1 EMA', target, '-->', train.loc[idx, 'target'])"
      ]
    },
    {
      "cell_type": "code",
      "execution_count": null,
      "metadata": {
        "id": "9A_GV2vIeX6v"
      },
      "outputs": [],
      "source": [
        "#target - Customized Change of Rate\n",
        "target_lag = train.groupby('cfips')['target'].shift(1)\n",
        "train['target_diff'] = abs(train['target'] - target_lag)/(train['target'] + target_lag)"
      ]
    },
    {
      "cell_type": "code",
      "execution_count": null,
      "metadata": {
        "colab": {
          "base_uri": "https://localhost:8080/",
          "height": 297
        },
        "id": "PNuqBNqy_SoA",
        "outputId": "1b8854c3-867f-48eb-a0f6-19806307df1a"
      },
      "outputs": [
        {
          "data": {
            "text/plain": [
              "Text(0.5, 0, 'Quantile')"
            ]
          },
          "execution_count": 154,
          "metadata": {},
          "output_type": "execute_result"
        },
        {
          "data": {
            "image/png": "[encoded data removed]",
            "text/plain": [
              "<Figure size 432x288 with 1 Axes>"
            ]
          },
          "metadata": {
            "needs_background": "light"
          },
          "output_type": "display_data"
        }
      ],
      "source": [
        "# Percentile values\n",
        "interval = list(np.arange(0, 1, 1/train.shape[0]))\n",
        "d = np.sort(train['target'].quantile(interval))\n",
        "p = np.array(interval)\n",
        "plt.plot(p, d)\n",
        "plt.ylabel('Target Value')\n",
        "plt.xlabel('Quantile')"
      ]
    },
    {
      "cell_type": "code",
      "execution_count": null,
      "metadata": {
        "execution": {
          "iopub.execute_input": "2023-01-13T02:28:04.383096Z",
          "iopub.status.busy": "2023-01-13T02:28:04.382587Z",
          "iopub.status.idle": "2023-01-13T02:28:04.445564Z",
          "shell.execute_reply": "2023-01-13T02:28:04.444417Z",
          "shell.execute_reply.started": "2023-01-13T02:28:04.383036Z"
        },
        "id": "L1f9ms82-Uod",
        "trusted": true
      },
      "outputs": [],
      "source": [
        "idx = train['target'].isnull()\n",
        "prediction = train.loc[idx[idx].index]\n",
        "prediction = prediction.reset_index(drop=True)\n",
        "train.drop(idx[idx].index, inplace=True)\n",
        "val = train[train['order']==37]\n",
        "train.drop(val.index, inplace=True)\n",
        "train = train.reset_index(drop=True)"
      ]
    },
    {
      "cell_type": "code",
      "execution_count": null,
      "metadata": {
        "colab": {
          "base_uri": "https://localhost:8080/"
        },
        "execution": {
          "iopub.execute_input": "2023-01-13T02:28:04.448185Z",
          "iopub.status.busy": "2023-01-13T02:28:04.447790Z",
          "iopub.status.idle": "2023-01-13T02:28:04.459239Z",
          "shell.execute_reply": "2023-01-13T02:28:04.457754Z",
          "shell.execute_reply.started": "2023-01-13T02:28:04.448149Z"
        },
        "id": "FzqiLKQf-Uod",
        "outputId": "344d2535-add9-480f-ced2-5a45e84b2deb",
        "trusted": true
      },
      "outputs": [
        {
          "data": {
            "text/plain": [
              "XGBRegressor(base_score=None, booster=None, callbacks=None,\n",
              "             colsample_bylevel=None, colsample_bynode=None,\n",
              "             colsample_bytree=0.5, early_stopping_rounds=None,\n",
              "             enable_categorical=True, eval_metric='mae', feature_types=None,\n",
              "             gamma=None, gpu_id=None, grow_policy=None, importance_type=None,\n",
              "             interaction_constraints=None, learning_rate=0.02, max_bin=4096,\n",
              "             max_cat_threshold=None, max_cat_to_onehot=None,\n",
              "             max_delta_step=None, max_depth=None, max_leaves=32,\n",
              "             min_child_weight=None, missing=nan, monotone_constraints=None,\n",
              "             n_estimators=5000, n_jobs=-1, num_parallel_tree=None,\n",
              "             objective='reg:pseudohubererror', predictor=None, ...)"
            ]
          },
          "execution_count": 156,
          "metadata": {},
          "output_type": "execute_result"
        }
      ],
      "source": [
        "param = {'objective'           :'reg:pseudohubererror',         \n",
        "        'tree_method'          :'hist',\n",
        "        'n_estimators'         : 5000,\n",
        "        'learning_rate'        : 0.02,\n",
        "        'max_leaves'           : 32,\n",
        "        'subsample'            : 0.50,\n",
        "        'colsample_bytree'     : 0.50,\n",
        "        'max_bin'              : 4096,\n",
        "        'n_jobs'               : -1,\n",
        "        'eval_metric'          :'mae',\n",
        "        #'early_stopping_rounds': 128\n",
        "        }\n",
        "model = xgb.XGBRegressor(**param, enable_categorical=True)\n",
        "model"
      ]
    },
    {
      "cell_type": "code",
      "execution_count": null,
      "metadata": {
        "colab": {
          "base_uri": "https://localhost:8080/"
        },
        "execution": {
          "iopub.execute_input": "2023-01-13T02:28:05.827910Z",
          "iopub.status.busy": "2023-01-13T02:28:05.827472Z",
          "iopub.status.idle": "2023-01-13T02:28:05.877162Z",
          "shell.execute_reply": "2023-01-13T02:28:05.875826Z",
          "shell.execute_reply.started": "2023-01-13T02:28:05.827875Z"
        },
        "id": "RVm3IvGH-Uoe",
        "outputId": "f17d2aa2-3248-4eae-aa50-10b411abf82b",
        "trusted": true
      },
      "outputs": [
        {
          "name": "stderr",
          "output_type": "stream",
          "text": [
            "<ipython-input-157-885e1a2cce70>:8: SettingWithCopyWarning: \n",
            "A value is trying to be set on a copy of a slice from a DataFrame.\n",
            "Try using .loc[row_indexer,col_indexer] = value instead\n",
            "\n",
            "See the caveats in the documentation: https://pandas.pydata.org/pandas-docs/stable/user_guide/indexing.html#returning-a-view-versus-a-copy\n",
            "  x_val['state'] = x_val['state'].astype('category')\n"
          ]
        }
      ],
      "source": [
        "feature = list(train.columns)\n",
        "exclude_lst = ['row_id', 'year', 'cfips', 'first_day_of_month', 'target', 'county', 'active', 'pct_bb', 'pct_college', 'pct_foreign_born','pct_it_workers', 'median_hh_inc',\n",
        "               'status']\n",
        "feature = [column for column in feature if column not in exclude_lst]\n",
        "x_val = val[feature]\n",
        "y_val = val['target']\n",
        "train['state'] = train['state'].astype('category')\n",
        "x_val['state'] = x_val['state'].astype('category')\n",
        "prediction['state'] = prediction['state'].astype('category')"
      ]
    },
    {
      "cell_type": "code",
      "execution_count": null,
      "metadata": {
        "colab": {
          "base_uri": "https://localhost:8080/"
        },
        "execution": {
          "iopub.execute_input": "2023-01-13T02:28:06.284207Z",
          "iopub.status.busy": "2023-01-13T02:28:06.283762Z",
          "iopub.status.idle": "2023-01-13T02:30:53.454910Z",
          "shell.execute_reply": "2023-01-13T02:30:53.453630Z",
          "shell.execute_reply.started": "2023-01-13T02:28:06.284162Z"
        },
        "id": "4Z95nbnN-Uoe",
        "outputId": "df5eebb7-cb91-45aa-a565-5a89bcf1ad0d",
        "trusted": true
      },
      "outputs": [
        {
          "data": {
            "text/plain": [
              "XGBRegressor(base_score=None, booster=None, callbacks=None,\n",
              "             colsample_bylevel=None, colsample_bynode=None,\n",
              "             colsample_bytree=0.5, early_stopping_rounds=None,\n",
              "             enable_categorical=True, eval_metric='mae', feature_types=None,\n",
              "             gamma=None, gpu_id=None, grow_policy=None, importance_type=None,\n",
              "             interaction_constraints=None, learning_rate=0.02, max_bin=4096,\n",
              "             max_cat_threshold=None, max_cat_to_onehot=None,\n",
              "             max_delta_step=None, max_depth=None, max_leaves=32,\n",
              "             min_child_weight=None, missing=nan, monotone_constraints=None,\n",
              "             n_estimators=5000, n_jobs=-1, num_parallel_tree=None,\n",
              "             objective='reg:pseudohubererror', predictor=None, ...)"
            ]
          },
          "execution_count": 158,
          "metadata": {},
          "output_type": "execute_result"
        }
      ],
      "source": [
        "x_train, y_train = train[feature], train['target']\n",
        "eval_set = [(x_train, y_train), (x_val, y_val)]\n",
        "model.fit(x_train, y_train, eval_set = eval_set, verbose=False)"
      ]
    },
    {
      "cell_type": "code",
      "execution_count": null,
      "metadata": {
        "colab": {
          "base_uri": "https://localhost:8080/"
        },
        "id": "N4BBGCV4uHaH",
        "outputId": "cb2ae2b2-22aa-48d2-c5c6-d20a836c8e28"
      },
      "outputs": [
        {
          "name": "stdout",
          "output_type": "stream",
          "text": [
            "Minimun of validation set for training : 0.00434\n",
            "Minimun of validation set for testing : 0.00455\n"
          ]
        }
      ],
      "source": [
        "mae_val0 = model.evals_result()['validation_0']['mae']\n",
        "mae_val1 = model.evals_result()['validation_1']['mae']\n",
        "epochs = len(mae_val0)\n",
        "x_axis = range(0, epochs)\n",
        "print(\"Minimun of validation set for training : %0.5f\" %(min(mae_val0)))\n",
        "print('Minimun of validation set for testing : %0.5f' %(min(mae_val1)))"
      ]
    },
    {
      "cell_type": "code",
      "execution_count": null,
      "metadata": {
        "id": "i_YF_RMMzJg-"
      },
      "outputs": [],
      "source": [
        "#target : Original\n",
        "#Minimun of validation set for training : 0.00434\n",
        "#Minimun of validation set for testing : 0.00455\n",
        "\n",
        "#target : EMA modification \n",
        "#Minimun of validation set for training : 0.00222\n",
        "#Minimun of validation set for testing : 0.00275"
      ]
    },
    {
      "cell_type": "code",
      "execution_count": null,
      "metadata": {
        "colab": {
          "base_uri": "https://localhost:8080/",
          "height": 281
        },
        "id": "qgg0mAjr0DMo",
        "outputId": "8c090baa-354e-4983-e9c3-bfaa41b14353"
      },
      "outputs": [
        {
          "data": {
            "image/png": "[encoded data removed]",
            "text/plain": [
              "<Figure size 432x288 with 1 Axes>"
            ]
          },
          "metadata": {
            "needs_background": "light"
          },
          "output_type": "display_data"
        }
      ],
      "source": [
        "#original\n",
        "fig, ax = plt.subplots()\n",
        "ax.plot(x_axis, mae_val0, label = 'Train')\n",
        "ax.plot(x_axis, mae_val1, label = 'Test')\n",
        "ax.legend()\n",
        "plt.ylabel('MAE')\n",
        "plt.title('XGB result')\n",
        "plt.show()"
      ]
    },
    {
      "cell_type": "code",
      "execution_count": null,
      "metadata": {
        "colab": {
          "base_uri": "https://localhost:8080/",
          "height": 426
        },
        "id": "wyyebSVRaQaE",
        "outputId": "e9f759f0-5159-4f81-c435-14d055c101b2"
      },
      "outputs": [
        {
          "data": {
            "text/html": [
              "\n",
              "  <div id=\"df-6708b2b4-c93c-4a65-83da-26d5a6f2bd4c\">\n",
              "    <div class=\"colab-df-container\">\n",
              "      <div>\n",
              "<style scoped>\n",
              "    .dataframe tbody tr th:only-of-type {\n",
              "        vertical-align: middle;\n",
              "    }\n",
              "\n",
              "    .dataframe tbody tr th {\n",
              "        vertical-align: top;\n",
              "    }\n",
              "\n",
              "    .dataframe thead th {\n",
              "        text-align: right;\n",
              "    }\n",
              "</style>\n",
              "<table border=\"1\" class=\"dataframe\">\n",
              "  <thead>\n",
              "    <tr style=\"text-align: right;\">\n",
              "      <th></th>\n",
              "      <th>column</th>\n",
              "      <th>score</th>\n",
              "    </tr>\n",
              "  </thead>\n",
              "  <tbody>\n",
              "    <tr>\n",
              "      <th>0</th>\n",
              "      <td>state</td>\n",
              "      <td>0.018612</td>\n",
              "    </tr>\n",
              "    <tr>\n",
              "      <th>1</th>\n",
              "      <td>microbusiness_density</td>\n",
              "      <td>0.012040</td>\n",
              "    </tr>\n",
              "    <tr>\n",
              "      <th>2</th>\n",
              "      <td>order</td>\n",
              "      <td>0.029149</td>\n",
              "    </tr>\n",
              "    <tr>\n",
              "      <th>3</th>\n",
              "      <td>next_month_density</td>\n",
              "      <td>0.012396</td>\n",
              "    </tr>\n",
              "    <tr>\n",
              "      <th>4</th>\n",
              "      <td>target_lag</td>\n",
              "      <td>0.096302</td>\n",
              "    </tr>\n",
              "    <tr>\n",
              "      <th>5</th>\n",
              "      <td>target_diff</td>\n",
              "      <td>0.102826</td>\n",
              "    </tr>\n",
              "    <tr>\n",
              "      <th>6</th>\n",
              "      <td>target_SMA</td>\n",
              "      <td>0.072413</td>\n",
              "    </tr>\n",
              "    <tr>\n",
              "      <th>7</th>\n",
              "      <td>target_SMA_diff</td>\n",
              "      <td>0.071557</td>\n",
              "    </tr>\n",
              "    <tr>\n",
              "      <th>8</th>\n",
              "      <td>target_CMA</td>\n",
              "      <td>0.061253</td>\n",
              "    </tr>\n",
              "    <tr>\n",
              "      <th>9</th>\n",
              "      <td>target_CMA_diff</td>\n",
              "      <td>0.102948</td>\n",
              "    </tr>\n",
              "    <tr>\n",
              "      <th>10</th>\n",
              "      <td>target_EMA</td>\n",
              "      <td>0.340997</td>\n",
              "    </tr>\n",
              "    <tr>\n",
              "      <th>11</th>\n",
              "      <td>target_EMA_diff</td>\n",
              "      <td>0.079507</td>\n",
              "    </tr>\n",
              "  </tbody>\n",
              "</table>\n",
              "</div>\n",
              "      <button class=\"colab-df-convert\" onclick=\"convertToInteractive('df-6708b2b4-c93c-4a65-83da-26d5a6f2bd4c')\"\n",
              "              title=\"Convert this dataframe to an interactive table.\"\n",
              "              style=\"display:none;\">\n",
              "        \n",
              "  <svg xmlns=\"http://www.w3.org/2000/svg\" height=\"24px\"viewBox=\"0 0 24 24\"\n",
              "       width=\"24px\">\n",
              "    <path d=\"M0 0h24v24H0V0z\" fill=\"none\"/>\n",
              "    <path d=\"M18.56 5.44l.94 2.06.94-2.06 2.06-.94-2.06-.94-.94-2.06-.94 2.06-2.06.94zm-11 1L8.5 8.5l.94-2.06 2.06-.94-2.06-.94L8.5 2.5l-.94 2.06-2.06.94zm10 10l.94 2.06.94-2.06 2.06-.94-2.06-.94-.94-2.06-.94 2.06-2.06.94z\"/><path d=\"M17.41 7.96l-1.37-1.37c-.4-.4-.92-.59-1.43-.59-.52 0-1.04.2-1.43.59L10.3 9.45l-7.72 7.72c-.78.78-.78 2.05 0 2.83L4 21.41c.39.39.9.59 1.41.59.51 0 1.02-.2 1.41-.59l7.78-7.78 2.81-2.81c.8-.78.8-2.07 0-2.86zM5.41 20L4 18.59l7.72-7.72 1.47 1.35L5.41 20z\"/>\n",
              "  </svg>\n",
              "      </button>\n",
              "      \n",
              "  <style>\n",
              "    .colab-df-container {\n",
              "      display:flex;\n",
              "      flex-wrap:wrap;\n",
              "      gap: 12px;\n",
              "    }\n",
              "\n",
              "    .colab-df-convert {\n",
              "      background-color: #E8F0FE;\n",
              "      border: none;\n",
              "      border-radius: 50%;\n",
              "      cursor: pointer;\n",
              "      display: none;\n",
              "      fill: #1967D2;\n",
              "      height: 32px;\n",
              "      padding: 0 0 0 0;\n",
              "      width: 32px;\n",
              "    }\n",
              "\n",
              "    .colab-df-convert:hover {\n",
              "      background-color: #E2EBFA;\n",
              "      box-shadow: 0px 1px 2px rgba(60, 64, 67, 0.3), 0px 1px 3px 1px rgba(60, 64, 67, 0.15);\n",
              "      fill: #174EA6;\n",
              "    }\n",
              "\n",
              "    [theme=dark] .colab-df-convert {\n",
              "      background-color: #3B4455;\n",
              "      fill: #D2E3FC;\n",
              "    }\n",
              "\n",
              "    [theme=dark] .colab-df-convert:hover {\n",
              "      background-color: #434B5C;\n",
              "      box-shadow: 0px 1px 3px 1px rgba(0, 0, 0, 0.15);\n",
              "      filter: drop-shadow(0px 1px 2px rgba(0, 0, 0, 0.3));\n",
              "      fill: #FFFFFF;\n",
              "    }\n",
              "  </style>\n",
              "\n",
              "      <script>\n",
              "        const buttonEl =\n",
              "          document.querySelector('#df-6708b2b4-c93c-4a65-83da-26d5a6f2bd4c button.colab-df-convert');\n",
              "        buttonEl.style.display =\n",
              "          google.colab.kernel.accessAllowed ? 'block' : 'none';\n",
              "\n",
              "        async function convertToInteractive(key) {\n",
              "          const element = document.querySelector('#df-6708b2b4-c93c-4a65-83da-26d5a6f2bd4c');\n",
              "          const dataTable =\n",
              "            await google.colab.kernel.invokeFunction('convertToInteractive',\n",
              "                                                     [key], {});\n",
              "          if (!dataTable) return;\n",
              "\n",
              "          const docLinkHtml = 'Like what you see? Visit the ' +\n",
              "            '<a target=\"_blank\" href=https://colab.research.google.com/notebooks/data_table.ipynb>data table notebook</a>'\n",
              "            + ' to learn more about interactive tables.';\n",
              "          element.innerHTML = '';\n",
              "          dataTable['output_type'] = 'display_data';\n",
              "          await google.colab.output.renderOutput(dataTable, element);\n",
              "          const docLink = document.createElement('div');\n",
              "          docLink.innerHTML = docLinkHtml;\n",
              "          element.appendChild(docLink);\n",
              "        }\n",
              "      </script>\n",
              "    </div>\n",
              "  </div>\n",
              "  "
            ],
            "text/plain": [
              "                   column     score\n",
              "0                   state  0.018612\n",
              "1   microbusiness_density  0.012040\n",
              "2                   order  0.029149\n",
              "3      next_month_density  0.012396\n",
              "4              target_lag  0.096302\n",
              "5             target_diff  0.102826\n",
              "6              target_SMA  0.072413\n",
              "7         target_SMA_diff  0.071557\n",
              "8              target_CMA  0.061253\n",
              "9         target_CMA_diff  0.102948\n",
              "10             target_EMA  0.340997\n",
              "11        target_EMA_diff  0.079507"
            ]
          },
          "execution_count": 118,
          "metadata": {},
          "output_type": "execute_result"
        }
      ],
      "source": [
        "#Feature Importance\n",
        "pd.DataFrame({'column':feature,'score':model.feature_importances_})"
      ]
    },
    {
      "cell_type": "markdown",
      "metadata": {
        "id": "uiEpkHh76_OP"
      },
      "source": [
        "#Submission"
      ]
    },
    {
      "cell_type": "code",
      "execution_count": null,
      "metadata": {
        "execution": {
          "iopub.execute_input": "2023-01-13T02:31:04.137973Z",
          "iopub.status.busy": "2023-01-13T02:31:04.137542Z",
          "iopub.status.idle": "2023-01-13T02:31:08.639999Z",
          "shell.execute_reply": "2023-01-13T02:31:08.639060Z",
          "shell.execute_reply.started": "2023-01-13T02:31:04.137936Z"
        },
        "id": "eVZxXUTd-Uof",
        "trusted": true
      },
      "outputs": [],
      "source": [
        "#Final Submission\n",
        "submission = pd.DataFrame(columns=['cfips','predict_value'])\n",
        "for i in range(0,8):\n",
        "    y_pred = model.predict(prediction[feature])*prediction['microbusiness_density']\n",
        "    prediction['predict_value'] = y_pred\n",
        "    submission = submission.append(prediction[['cfips', 'predict_value']])\n",
        "submission = submission.reset_index(drop=True)\n",
        "submission.rename(columns={'predict_value':'microbusiness_density'}, inplace=True)\n",
        "submission['row_id'] = test['row_id']\n",
        "submission = submission[['row_id', 'microbusiness_density']]\n",
        "submission.to_csv(r'/content/drive/MyDrive/godaddy-microbusiness-density-forecasting/submission.csv', index=False)"
      ]
    },
    {
      "cell_type": "code",
      "execution_count": null,
      "metadata": {
        "colab": {
          "base_uri": "https://localhost:8080/",
          "height": 424
        },
        "execution": {
          "iopub.execute_input": "2023-01-13T02:31:16.652690Z",
          "iopub.status.busy": "2023-01-13T02:31:16.652271Z",
          "iopub.status.idle": "2023-01-13T02:31:16.672536Z",
          "shell.execute_reply": "2023-01-13T02:31:16.671279Z",
          "shell.execute_reply.started": "2023-01-13T02:31:16.652658Z"
        },
        "id": "AG_X1XUH-Uof",
        "outputId": "4e9d24dd-1656-4543-fd6b-509d1031b2b6",
        "trusted": true
      },
      "outputs": [
        {
          "data": {
            "text/html": [
              "\n",
              "  <div id=\"df-f1d07952-ef26-429e-a307-a4f0a2201a79\">\n",
              "    <div class=\"colab-df-container\">\n",
              "      <div>\n",
              "<style scoped>\n",
              "    .dataframe tbody tr th:only-of-type {\n",
              "        vertical-align: middle;\n",
              "    }\n",
              "\n",
              "    .dataframe tbody tr th {\n",
              "        vertical-align: top;\n",
              "    }\n",
              "\n",
              "    .dataframe thead th {\n",
              "        text-align: right;\n",
              "    }\n",
              "</style>\n",
              "<table border=\"1\" class=\"dataframe\">\n",
              "  <thead>\n",
              "    <tr style=\"text-align: right;\">\n",
              "      <th></th>\n",
              "      <th>row_id</th>\n",
              "      <th>microbusiness_density</th>\n",
              "    </tr>\n",
              "  </thead>\n",
              "  <tbody>\n",
              "    <tr>\n",
              "      <th>0</th>\n",
              "      <td>1001_2022-11-01</td>\n",
              "      <td>3.620764</td>\n",
              "    </tr>\n",
              "    <tr>\n",
              "      <th>1</th>\n",
              "      <td>1003_2022-11-01</td>\n",
              "      <td>8.684756</td>\n",
              "    </tr>\n",
              "    <tr>\n",
              "      <th>2</th>\n",
              "      <td>1005_2022-11-01</td>\n",
              "      <td>1.272847</td>\n",
              "    </tr>\n",
              "    <tr>\n",
              "      <th>3</th>\n",
              "      <td>1007_2022-11-01</td>\n",
              "      <td>1.317922</td>\n",
              "    </tr>\n",
              "    <tr>\n",
              "      <th>4</th>\n",
              "      <td>1009_2022-11-01</td>\n",
              "      <td>1.878500</td>\n",
              "    </tr>\n",
              "    <tr>\n",
              "      <th>...</th>\n",
              "      <td>...</td>\n",
              "      <td>...</td>\n",
              "    </tr>\n",
              "    <tr>\n",
              "      <th>25075</th>\n",
              "      <td>56037_2023-06-01</td>\n",
              "      <td>2.927338</td>\n",
              "    </tr>\n",
              "    <tr>\n",
              "      <th>25076</th>\n",
              "      <td>56039_2023-06-01</td>\n",
              "      <td>27.336394</td>\n",
              "    </tr>\n",
              "    <tr>\n",
              "      <th>25077</th>\n",
              "      <td>56041_2023-06-01</td>\n",
              "      <td>4.125680</td>\n",
              "    </tr>\n",
              "    <tr>\n",
              "      <th>25078</th>\n",
              "      <td>56043_2023-06-01</td>\n",
              "      <td>3.205544</td>\n",
              "    </tr>\n",
              "    <tr>\n",
              "      <th>25079</th>\n",
              "      <td>56045_2023-06-01</td>\n",
              "      <td>1.853673</td>\n",
              "    </tr>\n",
              "  </tbody>\n",
              "</table>\n",
              "<p>25080 rows × 2 columns</p>\n",
              "</div>\n",
              "      <button class=\"colab-df-convert\" onclick=\"convertToInteractive('df-f1d07952-ef26-429e-a307-a4f0a2201a79')\"\n",
              "              title=\"Convert this dataframe to an interactive table.\"\n",
              "              style=\"display:none;\">\n",
              "        \n",
              "  <svg xmlns=\"http://www.w3.org/2000/svg\" height=\"24px\"viewBox=\"0 0 24 24\"\n",
              "       width=\"24px\">\n",
              "    <path d=\"M0 0h24v24H0V0z\" fill=\"none\"/>\n",
              "    <path d=\"M18.56 5.44l.94 2.06.94-2.06 2.06-.94-2.06-.94-.94-2.06-.94 2.06-2.06.94zm-11 1L8.5 8.5l.94-2.06 2.06-.94-2.06-.94L8.5 2.5l-.94 2.06-2.06.94zm10 10l.94 2.06.94-2.06 2.06-.94-2.06-.94-.94-2.06-.94 2.06-2.06.94z\"/><path d=\"M17.41 7.96l-1.37-1.37c-.4-.4-.92-.59-1.43-.59-.52 0-1.04.2-1.43.59L10.3 9.45l-7.72 7.72c-.78.78-.78 2.05 0 2.83L4 21.41c.39.39.9.59 1.41.59.51 0 1.02-.2 1.41-.59l7.78-7.78 2.81-2.81c.8-.78.8-2.07 0-2.86zM5.41 20L4 18.59l7.72-7.72 1.47 1.35L5.41 20z\"/>\n",
              "  </svg>\n",
              "      </button>\n",
              "      \n",
              "  <style>\n",
              "    .colab-df-container {\n",
              "      display:flex;\n",
              "      flex-wrap:wrap;\n",
              "      gap: 12px;\n",
              "    }\n",
              "\n",
              "    .colab-df-convert {\n",
              "      background-color: #E8F0FE;\n",
              "      border: none;\n",
              "      border-radius: 50%;\n",
              "      cursor: pointer;\n",
              "      display: none;\n",
              "      fill: #1967D2;\n",
              "      height: 32px;\n",
              "      padding: 0 0 0 0;\n",
              "      width: 32px;\n",
              "    }\n",
              "\n",
              "    .colab-df-convert:hover {\n",
              "      background-color: #E2EBFA;\n",
              "      box-shadow: 0px 1px 2px rgba(60, 64, 67, 0.3), 0px 1px 3px 1px rgba(60, 64, 67, 0.15);\n",
              "      fill: #174EA6;\n",
              "    }\n",
              "\n",
              "    [theme=dark] .colab-df-convert {\n",
              "      background-color: #3B4455;\n",
              "      fill: #D2E3FC;\n",
              "    }\n",
              "\n",
              "    [theme=dark] .colab-df-convert:hover {\n",
              "      background-color: #434B5C;\n",
              "      box-shadow: 0px 1px 3px 1px rgba(0, 0, 0, 0.15);\n",
              "      filter: drop-shadow(0px 1px 2px rgba(0, 0, 0, 0.3));\n",
              "      fill: #FFFFFF;\n",
              "    }\n",
              "  </style>\n",
              "\n",
              "      <script>\n",
              "        const buttonEl =\n",
              "          document.querySelector('#df-f1d07952-ef26-429e-a307-a4f0a2201a79 button.colab-df-convert');\n",
              "        buttonEl.style.display =\n",
              "          google.colab.kernel.accessAllowed ? 'block' : 'none';\n",
              "\n",
              "        async function convertToInteractive(key) {\n",
              "          const element = document.querySelector('#df-f1d07952-ef26-429e-a307-a4f0a2201a79');\n",
              "          const dataTable =\n",
              "            await google.colab.kernel.invokeFunction('convertToInteractive',\n",
              "                                                     [key], {});\n",
              "          if (!dataTable) return;\n",
              "\n",
              "          const docLinkHtml = 'Like what you see? Visit the ' +\n",
              "            '<a target=\"_blank\" href=https://colab.research.google.com/notebooks/data_table.ipynb>data table notebook</a>'\n",
              "            + ' to learn more about interactive tables.';\n",
              "          element.innerHTML = '';\n",
              "          dataTable['output_type'] = 'display_data';\n",
              "          await google.colab.output.renderOutput(dataTable, element);\n",
              "          const docLink = document.createElement('div');\n",
              "          docLink.innerHTML = docLinkHtml;\n",
              "          element.appendChild(docLink);\n",
              "        }\n",
              "      </script>\n",
              "    </div>\n",
              "  </div>\n",
              "  "
            ],
            "text/plain": [
              "                 row_id  microbusiness_density\n",
              "0       1001_2022-11-01               3.620764\n",
              "1       1003_2022-11-01               8.684756\n",
              "2       1005_2022-11-01               1.272847\n",
              "3       1007_2022-11-01               1.317922\n",
              "4       1009_2022-11-01               1.878500\n",
              "...                 ...                    ...\n",
              "25075  56037_2023-06-01               2.927338\n",
              "25076  56039_2023-06-01              27.336394\n",
              "25077  56041_2023-06-01               4.125680\n",
              "25078  56043_2023-06-01               3.205544\n",
              "25079  56045_2023-06-01               1.853673\n",
              "\n",
              "[25080 rows x 2 columns]"
            ]
          },
          "execution_count": 49,
          "metadata": {},
          "output_type": "execute_result"
        }
      ],
      "source": [
        "submission"
      ]
    },
    {
      "cell_type": "code",
      "execution_count": null,
      "metadata": {
        "id": "1ZO552beXYfK"
      },
      "outputs": [],
      "source": []
    }
  ],
  "metadata": {
    "colab": {
      "provenance": []
    },
    "kernelspec": {
      "display_name": "Python 3",
      "language": "python",
      "name": "python3"
    },
    "language_info": {
      "codemirror_mode": {
        "name": "ipython",
        "version": 3
      },
      "file_extension": ".py",
      "mimetype": "text/x-python",
      "name": "python",
      "nbconvert_exporter": "python",
      "pygments_lexer": "ipython3",
      "version": "3.7.12"
    }
  },
  "nbformat": 4,
  "nbformat_minor": 0
}
